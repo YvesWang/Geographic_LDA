{
 "cells": [
  {
   "cell_type": "code",
   "execution_count": 4,
   "metadata": {},
   "outputs": [],
   "source": [
    "import json\n",
    "from pprint import pprint\n"
   ]
  },
  {
   "cell_type": "code",
   "execution_count": 7,
   "metadata": {},
   "outputs": [],
   "source": [
    "tweets=[]\n",
    "for line in open('../data/sample.json', 'r'):\n",
    "    tweets.append(json.loads(line))"
   ]
  },
  {
   "cell_type": "code",
   "execution_count": 8,
   "metadata": {},
   "outputs": [
    {
     "data": {
      "text/plain": [
       "'RT @HillaryClinton: \"Latinas still make 55 cents for every dollar a white man makes. That’s just totally unacceptable.\" —Hillary https://t.…'"
      ]
     },
     "execution_count": 8,
     "metadata": {},
     "output_type": "execute_result"
    }
   ],
   "source": [
    "tweets[7]['full_text']"
   ]
  },
  {
   "cell_type": "code",
   "execution_count": 11,
   "metadata": {},
   "outputs": [
    {
     "data": {
      "text/plain": [
       "{'contributors_enabled': False,\n",
       " 'created_at': 'Wed Jun 17 06:32:15 +0000 2015',\n",
       " 'default_profile': False,\n",
       " 'default_profile_image': False,\n",
       " 'description': 'Portland, Oregon Real Estate Broker  in Fine  Washington County Resale Residences',\n",
       " 'entities': {'description': {'urls': []},\n",
       "  'url': {'urls': [{'display_url': 'KristenButz.com',\n",
       "     'expanded_url': 'http://www.KristenButz.com',\n",
       "     'indices': [0, 22],\n",
       "     'url': 'http://t.co/e6ognsLhdc'}]}},\n",
       " 'favourites_count': 1835,\n",
       " 'follow_request_sent': False,\n",
       " 'followers_count': 17,\n",
       " 'following': False,\n",
       " 'friends_count': 0,\n",
       " 'geo_enabled': False,\n",
       " 'has_extended_profile': False,\n",
       " 'id': 3330968134,\n",
       " 'id_str': '3330968134',\n",
       " 'is_translation_enabled': False,\n",
       " 'is_translator': False,\n",
       " 'lang': 'en',\n",
       " 'listed_count': 34,\n",
       " 'location': 'Maryland',\n",
       " 'name': 'Kristen Morgan',\n",
       " 'notifications': False,\n",
       " 'profile_background_color': 'EBEBEB',\n",
       " 'profile_background_image_url': 'http://abs.twimg.com/images/themes/theme7/bg.gif',\n",
       " 'profile_background_image_url_https': 'https://abs.twimg.com/images/themes/theme7/bg.gif',\n",
       " 'profile_background_tile': False,\n",
       " 'profile_banner_url': 'https://pbs.twimg.com/profile_banners/3330968134/1439714901',\n",
       " 'profile_image_url': 'http://pbs.twimg.com/profile_images/632836177234685952/S9vUDG8z_normal.jpg',\n",
       " 'profile_image_url_https': 'https://pbs.twimg.com/profile_images/632836177234685952/S9vUDG8z_normal.jpg',\n",
       " 'profile_link_color': '990000',\n",
       " 'profile_sidebar_border_color': 'DFDFDF',\n",
       " 'profile_sidebar_fill_color': 'F3F3F3',\n",
       " 'profile_text_color': '333333',\n",
       " 'profile_use_background_image': True,\n",
       " 'protected': False,\n",
       " 'screen_name': 'eRaltorKristen',\n",
       " 'statuses_count': 2126,\n",
       " 'time_zone': None,\n",
       " 'translator_type': 'none',\n",
       " 'url': 'http://t.co/e6ognsLhdc',\n",
       " 'utc_offset': None,\n",
       " 'verified': False}"
      ]
     },
     "execution_count": 11,
     "metadata": {},
     "output_type": "execute_result"
    }
   ],
   "source": [
    "tweets[1]['user']"
   ]
  },
  {
   "cell_type": "code",
   "execution_count": null,
   "metadata": {},
   "outputs": [],
   "source": [
    "full_text, created_at, id_str, geo, lang, retweet_count, user"
   ]
  },
  {
   "cell_type": "code",
   "execution_count": null,
   "metadata": {},
   "outputs": [],
   "source": [
    "df = sqlContext.read.json('sample.json')\n",
    "text = df.select('full_text','user','created_at', 'id_str', 'geo', 'lang', 'retweet_count')\n",
    "text = text.filter(text['lang'] == 'en').filter(text['geo'] == 'null')\n",
    "text.toPandas().to_csv('./filtersample.csv')\n",
    "#text.rdd.map(str)\n",
    "#text.rdd.map(str).map(lambda x: x[14:])"
   ]
  },
  {
   "cell_type": "code",
   "execution_count": null,
   "metadata": {},
   "outputs": [],
   "source": []
  }
 ],
 "metadata": {
  "kernelspec": {
   "display_name": "Python 3",
   "language": "python",
   "name": "python3"
  },
  "language_info": {
   "codemirror_mode": {
    "name": "ipython",
    "version": 3
   },
   "file_extension": ".py",
   "mimetype": "text/x-python",
   "name": "python",
   "nbconvert_exporter": "python",
   "pygments_lexer": "ipython3",
   "version": "3.6.4"
  }
 },
 "nbformat": 4,
 "nbformat_minor": 2
}
