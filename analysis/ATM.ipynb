{
 "cells": [
  {
   "cell_type": "code",
   "execution_count": 1,
   "metadata": {
    "collapsed": true
   },
   "outputs": [],
   "source": [
    "import pandas as pd\n",
    "\n",
    "import json\n",
    "from pprint import pprint\n",
    "\n",
    "#Use gensim, which remove stop words, short words(<3 letters), puncts and do stemming\n",
    "from gensim.parsing.preprocessing import preprocess_documents\n",
    "from gensim.parsing.preprocessing import preprocess_string\n",
    "\n",
    "\n",
    "from collections import Counter\n",
    "import numpy as np\n",
    "\n",
    "\n",
    "from gensim.models import AuthorTopicModel\n",
    "from gensim.corpora import mmcorpus\n",
    "from gensim.test.utils import common_dictionary, datapath, temporary_file\n",
    "\n",
    "from gensim import corpora\n",
    "\n",
    "import pickle\n",
    "import logging\n",
    "\n",
    "import numpy as np\n",
    "import matplotlib\n",
    "\n",
    "\n",
    "from matplotlib import pyplot as plt\n",
    "%matplotlib inline"
   ]
  },
  {
   "cell_type": "code",
   "execution_count": 160,
   "metadata": {
    "collapsed": true
   },
   "outputs": [],
   "source": [
    "from lib.ATM import ATM,get_top_words\n",
    "from sklearn.linear_model import LogisticRegression\n"
   ]
  },
  {
   "cell_type": "code",
   "execution_count": 3,
   "metadata": {
    "collapsed": true
   },
   "outputs": [],
   "source": [
    "import pickle as pkl\n",
    "with open('states.pkl','rb') as file:\n",
    "    states=pkl.load(file)\n",
    "\n",
    "import json \n",
    "with open('propseconddebate.json','r') as json_file:\n",
    "    text=json.load(json_file)\n",
    "\n",
    "t_ids=list(text['full_text'].keys())"
   ]
  },
  {
   "cell_type": "code",
   "execution_count": 116,
   "metadata": {
    "collapsed": true
   },
   "outputs": [],
   "source": [
    "# with open('filterDEM.json','r') as json_file:\n",
    "#     DEM=json.load(json_file)"
   ]
  },
  {
   "cell_type": "code",
   "execution_count": 67,
   "metadata": {
    "collapsed": true
   },
   "outputs": [],
   "source": [
    "# locs=[]\n",
    "# for ID in t_ids:\n",
    "#     if text['user'][ID][19]!='':\n",
    "#         locs.append(text['user'][ID][19])"
   ]
  },
  {
   "cell_type": "code",
   "execution_count": 68,
   "metadata": {
    "collapsed": true
   },
   "outputs": [],
   "source": [
    "# locs"
   ]
  },
  {
   "cell_type": "code",
   "execution_count": 69,
   "metadata": {
    "collapsed": true
   },
   "outputs": [],
   "source": [
    "# with open('firstdebat_cleaned.json','r') as json_file:\n",
    "#     text=json.load(json_file)"
   ]
  },
  {
   "cell_type": "code",
   "execution_count": 4,
   "metadata": {
    "collapsed": true
   },
   "outputs": [],
   "source": [
    "#Reorganize json file into a pd dataframe odf\n",
    "\n",
    "ID2UID={}\n",
    "\n",
    "for ID in t_ids:\n",
    "    UID=text['user'][ID][13]\n",
    "    ID2UID[ID]=UID\n",
    "\n",
    "\n",
    "states_full=set(list(states.values()))\n",
    "\n",
    "states_abb=set(list(states.keys()))\n",
    "\n",
    "ID2loc={}\n",
    "\n",
    "#get place from place attribute\n",
    "# for ID in t_ids:\n",
    "#     loc=text['place'][ID][4].split()\n",
    "#     if len(loc)>1:\n",
    "#         if loc[0] in states_full:\n",
    "#             ID2loc[ID]=loc[0]\n",
    "#         elif loc[1] in states_abb:\n",
    "#             ID2loc[ID]=states[loc[1]]\n",
    "            \n",
    "#get place from user attribute\n",
    "for ID in t_ids:\n",
    "    loc= text['user'][ID][19].split()\n",
    "    if len(loc)>1:\n",
    "        if loc[0] in states_full:\n",
    "            ID2loc[ID]=loc[0]\n",
    "        if loc[1] in states_full:\n",
    "            ID2loc[ID]=loc[1]\n",
    "        elif loc[0].upper() in states_abb:\n",
    "                ID2loc[ID]=states[loc[0].upper()]\n",
    "        elif loc[1].upper() in states_abb:\n",
    "            ID2loc[ID]=states[loc[1].upper()]\n",
    "        \n",
    "#     print(text['place'][ID][4])\n",
    "\n",
    "valid_ids=set(ID2loc.keys())\n",
    "\n",
    "ID2text={}\n",
    "for ID in t_ids:\n",
    "    sent=text['full_text'][ID]\n",
    "    if ID in valid_ids:\n",
    "        ID2text[ID]=sent\n",
    "\n",
    "IDs=[]\n",
    "sents=[]\n",
    "locs=[]\n",
    "UIDs=[]\n",
    "for ID in valid_ids:\n",
    "    IDs.append(ID)\n",
    "    sents.append(ID2text[ID])\n",
    "    locs.append(ID2loc[ID])\n",
    "    UIDs.append(ID2UID[ID])\n",
    "df={'ID':IDs,'text':sents,'state':locs,'uid':UIDs}\n",
    "\n",
    "odf=pd.DataFrame.from_dict(df)"
   ]
  },
  {
   "cell_type": "code",
   "execution_count": 5,
   "metadata": {},
   "outputs": [
    {
     "data": {
      "text/html": [
       "<div>\n",
       "<style scoped>\n",
       "    .dataframe tbody tr th:only-of-type {\n",
       "        vertical-align: middle;\n",
       "    }\n",
       "\n",
       "    .dataframe tbody tr th {\n",
       "        vertical-align: top;\n",
       "    }\n",
       "\n",
       "    .dataframe thead th {\n",
       "        text-align: right;\n",
       "    }\n",
       "</style>\n",
       "<table border=\"1\" class=\"dataframe\">\n",
       "  <thead>\n",
       "    <tr style=\"text-align: right;\">\n",
       "      <th></th>\n",
       "      <th>ID</th>\n",
       "      <th>text</th>\n",
       "      <th>state</th>\n",
       "      <th>uid</th>\n",
       "    </tr>\n",
       "  </thead>\n",
       "  <tbody>\n",
       "    <tr>\n",
       "      <th>0</th>\n",
       "      <td>66360</td>\n",
       "      <td>@realDonaldTrump probably thinks the West Memp...</td>\n",
       "      <td>Pennsylvania</td>\n",
       "      <td>2516977465</td>\n",
       "    </tr>\n",
       "    <tr>\n",
       "      <th>1</th>\n",
       "      <td>45391</td>\n",
       "      <td>RT @elizarledge: When their home is at stake i...</td>\n",
       "      <td>Mississippi</td>\n",
       "      <td>2869699381</td>\n",
       "    </tr>\n",
       "    <tr>\n",
       "      <th>2</th>\n",
       "      <td>12823</td>\n",
       "      <td>RT @fightfor15: #FightFor15 workers will be at...</td>\n",
       "      <td>Texas</td>\n",
       "      <td>55009781</td>\n",
       "    </tr>\n",
       "    <tr>\n",
       "      <th>3</th>\n",
       "      <td>26265</td>\n",
       "      <td>RT @HillaryClinton: \"Latinas still make 55 cen...</td>\n",
       "      <td>Florida</td>\n",
       "      <td>3391230298</td>\n",
       "    </tr>\n",
       "    <tr>\n",
       "      <th>4</th>\n",
       "      <td>179284</td>\n",
       "      <td>@realDonaldTrump is a coward. No press confere...</td>\n",
       "      <td>Texas</td>\n",
       "      <td>107589468</td>\n",
       "    </tr>\n",
       "  </tbody>\n",
       "</table>\n",
       "</div>"
      ],
      "text/plain": [
       "       ID                                               text         state  \\\n",
       "0   66360  @realDonaldTrump probably thinks the West Memp...  Pennsylvania   \n",
       "1   45391  RT @elizarledge: When their home is at stake i...   Mississippi   \n",
       "2   12823  RT @fightfor15: #FightFor15 workers will be at...         Texas   \n",
       "3   26265  RT @HillaryClinton: \"Latinas still make 55 cen...       Florida   \n",
       "4  179284  @realDonaldTrump is a coward. No press confere...         Texas   \n",
       "\n",
       "          uid  \n",
       "0  2516977465  \n",
       "1  2869699381  \n",
       "2    55009781  \n",
       "3  3391230298  \n",
       "4   107589468  "
      ]
     },
     "execution_count": 5,
     "metadata": {},
     "output_type": "execute_result"
    }
   ],
   "source": [
    "odf.head()"
   ]
  },
  {
   "cell_type": "code",
   "execution_count": 6,
   "metadata": {},
   "outputs": [
    {
     "data": {
      "text/plain": [
       "42042"
      ]
     },
     "execution_count": 6,
     "metadata": {},
     "output_type": "execute_result"
    }
   ],
   "source": [
    "len(odf)"
   ]
  },
  {
   "cell_type": "code",
   "execution_count": 7,
   "metadata": {
    "collapsed": true
   },
   "outputs": [],
   "source": [
    "number_uid=(odf.groupby('uid').count()['ID'])\n",
    "good_uid=set(number_uid[number_uid<5].index.values)\n",
    "odf=odf[odf.uid.isin(good_uid)]"
   ]
  },
  {
   "cell_type": "code",
   "execution_count": 8,
   "metadata": {},
   "outputs": [
    {
     "data": {
      "text/plain": [
       "[<matplotlib.lines.Line2D at 0x7f4b060c9eb8>]"
      ]
     },
     "execution_count": 8,
     "metadata": {},
     "output_type": "execute_result"
    },
    {
     "data": {
      "image/png": "[encoded data removed]",
      "text/plain": [
       "<matplotlib.figure.Figure at 0x7f4b0618eeb8>"
      ]
     },
     "metadata": {},
     "output_type": "display_data"
    }
   ],
   "source": [
    "plt.plot(odf.groupby('state').count()['ID'])"
   ]
  },
  {
   "cell_type": "code",
   "execution_count": 9,
   "metadata": {
    "collapsed": true
   },
   "outputs": [],
   "source": [
    "#drop states with less than 300 tweets\n",
    "number_tweets=odf.groupby('state').count()['ID']\n",
    "good_states=set(number_tweets[number_tweets>300].index.values)\n",
    "\n",
    "odf=odf[odf.state.isin(good_states)]"
   ]
  },
  {
   "cell_type": "code",
   "execution_count": 10,
   "metadata": {
    "collapsed": true
   },
   "outputs": [],
   "source": [
    "# Tokenize tweets\n",
    "\n",
    "documents=odf['text'].values\n",
    "\n",
    "from gensim.parsing.preprocessing import *\n",
    "CUSTOM_FILTERS = [lambda x: x.lower(),strip_multiple_whitespaces,remove_stopwords, strip_non_alphanum,strip_numeric,lambda x: strip_short(x,minsize=3)]\n",
    "\n",
    "filtered_docs=list(map(lambda t:preprocess_string(t, CUSTOM_FILTERS),documents))\n",
    "\n",
    "texts=filtered_docs\n",
    "\n",
    "from collections import defaultdict\n",
    "frequency = Counter()\n",
    "\n",
    "for text in texts:\n",
    "    for token in text:\n",
    "        frequency[token] += 1\n",
    "\n",
    "texts = [[token for token in text if (frequency[token] > 2) and (frequency[token]<200)] for text in texts]\n"
   ]
  },
  {
   "cell_type": "code",
   "execution_count": 11,
   "metadata": {
    "collapsed": true
   },
   "outputs": [],
   "source": [
    "#add filtered text to odf, but remove empty ones\n",
    "odf['filtered']=texts\n",
    "odf['filtered_len']=list(map(lambda x:len(x),texts))\n",
    "odf_c=odf[odf['filtered_len']>0]\n",
    "texts=odf_c['filtered'].values"
   ]
  },
  {
   "cell_type": "code",
   "execution_count": 12,
   "metadata": {
    "collapsed": true
   },
   "outputs": [],
   "source": [
    "\n",
    "n=0\n",
    "author2doc={}\n",
    "for author in states.values():\n",
    "    author2doc[author]=[]\n",
    "\n",
    "for author in odf_c['state'].values:\n",
    "    author2doc[author].append(int(n))\n",
    "    n+=1\n",
    "\n",
    "author_name={}\n",
    "author2id={}\n",
    "nstates=np.unique(odf_c['state'].values)\n",
    "for i in range(len(nstates)):\n",
    "    author_name[i]=nstates[i]\n",
    "    author2id[nstates[i]]=i"
   ]
  },
  {
   "cell_type": "code",
   "execution_count": 13,
   "metadata": {
    "collapsed": true
   },
   "outputs": [],
   "source": [
    "import os\n",
    "dictionary = corpora.Dictionary(texts)\n",
    "dictionary.save(os.path.join('temp.dict'))\n",
    "#indexize words and tweets\n",
    "corpus = [dictionary.doc2bow(text) for text in texts]\n",
    "\n",
    "#generate author2doc dic\n",
    "n=0\n",
    "author2doc={}\n",
    "for author in states.values():\n",
    "    author2doc[author]=[]\n",
    "\n",
    "for author in odf_c['state'].values:\n",
    "    author2doc[author].append(int(n))\n",
    "    n+=1"
   ]
  },
  {
   "cell_type": "code",
   "execution_count": 14,
   "metadata": {
    "collapsed": true
   },
   "outputs": [],
   "source": [
    "#indexize states\n",
    "author_name={}\n",
    "author2id={}\n",
    "nstates=np.unique(odf_c['state'].values)\n",
    "for i in range(len(nstates)):\n",
    "    author_name[i]=nstates[i]\n",
    "    author2id[nstates[i]]=i"
   ]
  },
  {
   "cell_type": "code",
   "execution_count": 15,
   "metadata": {
    "collapsed": true
   },
   "outputs": [],
   "source": [
    "#input corpus for our ATM model\n",
    "new_corpus=[]\n",
    "for tweet in corpus:\n",
    "    new_data=[]\n",
    "    for pair in tweet:\n",
    "        new_data+=[pair[0]]*pair[1]\n",
    "    new_corpus.append(new_data)"
   ]
  },
  {
   "cell_type": "code",
   "execution_count": 16,
   "metadata": {
    "collapsed": true
   },
   "outputs": [],
   "source": [
    "# A new word dic for our model input\n",
    "new_dic={}\n",
    "for key in dictionary.keys():\n",
    "    new_dic[key]=dictionary[key]"
   ]
  },
  {
   "cell_type": "code",
   "execution_count": 17,
   "metadata": {
    "collapsed": true
   },
   "outputs": [],
   "source": [
    "voca=[new_dic[i] for i in range(len(new_dic.keys()))]"
   ]
  },
  {
   "cell_type": "code",
   "execution_count": 18,
   "metadata": {},
   "outputs": [
    {
     "data": {
      "text/plain": [
       "4358"
      ]
     },
     "execution_count": 18,
     "metadata": {},
     "output_type": "execute_result"
    }
   ],
   "source": [
    "len(voca)"
   ]
  },
  {
   "cell_type": "code",
   "execution_count": 20,
   "metadata": {
    "collapsed": true
   },
   "outputs": [],
   "source": [
    "#generate docauthor list for our model input\n",
    "doc_author=np.arange(len(new_corpus))\n",
    "\n",
    "for pair in author2doc.items():\n",
    "#     print(pair)\n",
    "    for doc_id in pair[1]:\n",
    "        doc_author[doc_id]=author2id[pair[0]]\n",
    "\n",
    "doc_author=[[i] for i in doc_author]"
   ]
  },
  {
   "cell_type": "code",
   "execution_count": 21,
   "metadata": {
    "collapsed": true
   },
   "outputs": [],
   "source": [
    "#model hyperparameters\n",
    "n_doc = len(corpus)\n",
    "n_topic = 300\n",
    "n_author = len(author_name)\n",
    "n_voca = len(voca)\n",
    "max_iter = 25"
   ]
  },
  {
   "cell_type": "code",
   "execution_count": 22,
   "metadata": {},
   "outputs": [
    {
     "name": "stdout",
     "output_type": "stream",
     "text": [
      " 0 elapsed_time: 4.303560972213745 log_likelihood: -961925.6121729154\n",
      "Perplexity 2542.636050178397\n",
      " 1 elapsed_time: 4.342651128768921 log_likelihood: -907854.8372159792\n",
      "Perplexity 2503.335242265519\n",
      " 2 elapsed_time: 4.361605644226074 log_likelihood: -881874.0529397473\n",
      "Perplexity 2460.6253326037213\n",
      " 3 elapsed_time: 4.33298921585083 log_likelihood: -866098.5842621856\n",
      "Perplexity 2435.026933305533\n",
      " 4 elapsed_time: 4.350955009460449 log_likelihood: -854179.5978286116\n",
      "Perplexity 2414.0192590652036\n",
      " 5 elapsed_time: 4.3802876472473145 log_likelihood: -844057.660135508\n",
      "Perplexity 2400.43361793533\n",
      " 6 elapsed_time: 4.342634916305542 log_likelihood: -836687.9016003669\n",
      "Perplexity 2386.9418073041165\n",
      " 7 elapsed_time: 4.346031904220581 log_likelihood: -830694.6302732324\n",
      "Perplexity 2380.5773926531797\n",
      " 8 elapsed_time: 4.410059928894043 log_likelihood: -824238.0612193521\n",
      "Perplexity 2362.8848139079146\n",
      " 9 elapsed_time: 4.34222412109375 log_likelihood: -818377.1474162553\n",
      "Perplexity 2359.7088791082365\n",
      " 10 elapsed_time: 4.368133068084717 log_likelihood: -815755.4264736795\n",
      "Perplexity 2346.7159011961417\n",
      " 11 elapsed_time: 4.344409942626953 log_likelihood: -812205.6302136693\n",
      "Perplexity 2362.4503060756233\n",
      " 12 elapsed_time: 4.423901796340942 log_likelihood: -808239.3146905303\n",
      "Perplexity 2350.064914318634\n",
      " 13 elapsed_time: 4.432581186294556 log_likelihood: -804822.4857538014\n",
      "Perplexity 2339.639243843168\n",
      " 14 elapsed_time: 4.446667194366455 log_likelihood: -802445.9630072548\n",
      "Perplexity 2342.955993882457\n",
      " 15 elapsed_time: 4.365816593170166 log_likelihood: -797592.7217486382\n",
      "Perplexity 2346.0780621699105\n",
      " 16 elapsed_time: 4.385343551635742 log_likelihood: -795467.0162383656\n",
      "Perplexity 2343.777604301271\n",
      " 17 elapsed_time: 4.3402321338653564 log_likelihood: -793059.6336173123\n",
      "Perplexity 2340.8577473262403\n",
      " 18 elapsed_time: 4.337914228439331 log_likelihood: -790677.5869936111\n",
      "Perplexity 2351.4950800143797\n",
      " 19 elapsed_time: 4.544405221939087 log_likelihood: -789074.7259548206\n",
      "Perplexity 2348.616916423594\n",
      " 20 elapsed_time: 4.306941747665405 log_likelihood: -786705.2287328509\n",
      "Perplexity 2353.0641020625376\n",
      " 21 elapsed_time: 4.301634311676025 log_likelihood: -784645.4905065129\n",
      "Perplexity 2360.5072413768316\n",
      " 22 elapsed_time: 4.352301597595215 log_likelihood: -780662.308873037\n",
      "Perplexity 2359.395226763836\n",
      " 23 elapsed_time: 4.24888801574707 log_likelihood: -779386.7360138684\n",
      "Perplexity 2350.124997646976\n",
      " 24 elapsed_time: 4.345580101013184 log_likelihood: -777827.7876063527\n",
      "Perplexity 2345.331853558358\n"
     ]
    }
   ],
   "source": [
    "model = ATM(n_doc, n_voca, n_topic, n_author)\n",
    "model.fit(new_corpus, doc_author, max_iter=max_iter)"
   ]
  },
  {
   "cell_type": "code",
   "execution_count": 23,
   "metadata": {
    "scrolled": true
   },
   "outputs": [
    {
     "data": {
      "text/plain": [
       "2345.331853558358"
      ]
     },
     "execution_count": 23,
     "metadata": {},
     "output_type": "execute_result"
    }
   ],
   "source": [
    "model.perplexity(new_corpus, doc_author)"
   ]
  },
  {
   "cell_type": "code",
   "execution_count": 256,
   "metadata": {
    "collapsed": true,
    "scrolled": true
   },
   "outputs": [],
   "source": [
    "# for k in range(n_topic):\n",
    "#     top_words = get_top_words(model.TW, voca, k, 10)\n",
    "#     print('topic ', k , ','.join(top_words))"
   ]
  },
  {
   "cell_type": "code",
   "execution_count": 24,
   "metadata": {},
   "outputs": [
    {
     "data": {
      "text/plain": [
       "array(['more', 'grope', 'girl', 'citizens', 'theresamechele', 'loose',\n",
       "       'positions', 'billybush', 'repeal', 'scotusatstake', 'nice',\n",
       "       'losing', 'fox', 'dirt', 'reference', 'dumbass', 'alert', 'texas',\n",
       "       'pages', 'kinds', 'amjoy', 'syrian', 'felonious', 'major',\n",
       "       'resources', 'gore', 'pandering', 'odell', 'murders', 'frog'],\n",
       "      dtype='<U21')"
      ]
     },
     "execution_count": 24,
     "metadata": {},
     "output_type": "execute_result"
    }
   ],
   "source": [
    "k=100\n",
    "get_top_words(model.TW, voca, k, 30)"
   ]
  },
  {
   "cell_type": "code",
   "execution_count": 25,
   "metadata": {
    "collapsed": true
   },
   "outputs": [],
   "source": [
    "normalized_AT=[]\n",
    "for author_id in range(len(author_name.values())):\n",
    "    normalized_AT.append((model.AT[author_id,:]/np.sum(model.AT[author_id,:])))\n",
    "\n",
    "normalized_AT=np.array(normalized_AT)"
   ]
  },
  {
   "cell_type": "code",
   "execution_count": 26,
   "metadata": {},
   "outputs": [
    {
     "data": {
      "image/png": "[encoded data removed]",
      "text/plain": [
       "<matplotlib.figure.Figure at 0x7f4acd2c4d30>"
      ]
     },
     "metadata": {},
     "output_type": "display_data"
    }
   ],
   "source": [
    "author_id = 2\n",
    "fig = plt.figure(figsize=(12,6))\n",
    "plt.bar(range(n_topic), normalized_AT[author_id,:],label=author_name[author_id])\n",
    "author_id = 11\n",
    "plt.bar(range(n_topic), normalized_AT[author_id,:],color='r',alpha=0.65,label=author_name[author_id])\n",
    "plt.legend()\n",
    "plt.title(author_name[author_id])\n",
    "# plt.xticks(np.arange(n_topic)+0.5, ['\\n'.join(get_top_words(model.TW, voca, k, 10)) for k in range(n_topic)])\n",
    "plt.xticks(np.arange(n_topic)+0.5, [k for k in range(n_topic)])\n",
    "plt.show()"
   ]
  },
  {
   "cell_type": "code",
   "execution_count": 260,
   "metadata": {},
   "outputs": [
    {
     "name": "stdout",
     "output_type": "stream",
     "text": [
      "@realDonaldTrump you're a bull in a china cabinet! Let her speak.\n"
     ]
    }
   ],
   "source": [
    "keyword='china'\n",
    "for tweet in odf[odf.state=='Arizona'].text.values:\n",
    "    if keyword in tweet:\n",
    "        print(tweet)"
   ]
  },
  {
   "cell_type": "code",
   "execution_count": 276,
   "metadata": {
    "collapsed": true
   },
   "outputs": [],
   "source": [
    "# odf[odf.state=='Arizona'].text.values"
   ]
  },
  {
   "cell_type": "code",
   "execution_count": 27,
   "metadata": {
    "collapsed": true
   },
   "outputs": [],
   "source": [
    "topic_stds=[]\n",
    "for topic in range(n_topic):\n",
    "    topic_stds.append(np.std(normalized_AT[:,topic]))"
   ]
  },
  {
   "cell_type": "code",
   "execution_count": 28,
   "metadata": {},
   "outputs": [
    {
     "data": {
      "text/plain": [
       "[<matplotlib.lines.Line2D at 0x7f4acfca5a58>]"
      ]
     },
     "execution_count": 28,
     "metadata": {},
     "output_type": "execute_result"
    },
    {
     "data": {
      "image/png": "[encoded data removed]",
      "text/plain": [
       "<matplotlib.figure.Figure at 0x7f4acd2c4b38>"
      ]
     },
     "metadata": {},
     "output_type": "display_data"
    }
   ],
   "source": [
    "plt.plot(topic_stds)"
   ]
  },
  {
   "cell_type": "code",
   "execution_count": 29,
   "metadata": {},
   "outputs": [
    {
     "data": {
      "text/plain": [
       "[(10, 0.01633111796360954),\n",
       " (192, 0.014693266109412895),\n",
       " (90, 0.014358240798792866),\n",
       " (88, 0.014287091578241397),\n",
       " (244, 0.014108317178531072),\n",
       " (17, 0.013855750785049479),\n",
       " (102, 0.01352881621049556),\n",
       " (25, 0.01298749086659188),\n",
       " (50, 0.01295442855446219),\n",
       " (231, 0.012900776117503385),\n",
       " (150, 0.012730362827725314),\n",
       " (128, 0.012669014549728725),\n",
       " (72, 0.01211715798074454),\n",
       " (24, 0.012058528679973222),\n",
       " (40, 0.011866714396698778),\n",
       " (299, 0.011703738305682828),\n",
       " (242, 0.011691316366875445),\n",
       " (103, 0.011654871222156875),\n",
       " (141, 0.011561526616270988),\n",
       " (110, 0.011508750121144436),\n",
       " (198, 0.0112070878431928),\n",
       " (165, 0.010856709835259371),\n",
       " (116, 0.010817737708790305),\n",
       " (237, 0.010367911544087543),\n",
       " (124, 0.010324068598899819),\n",
       " (45, 0.01032158260573099),\n",
       " (68, 0.010047606862175455),\n",
       " (139, 0.009879113825109944),\n",
       " (80, 0.009805193351690902),\n",
       " (97, 0.009706849850002823),\n",
       " (178, 0.009705510330644294),\n",
       " (255, 0.009576034371518969),\n",
       " (294, 0.009251389712637273),\n",
       " (108, 0.009243710741751199),\n",
       " (280, 0.009234960735307083),\n",
       " (157, 0.009196702827880128),\n",
       " (220, 0.008940791373033464),\n",
       " (295, 0.008935632675871304),\n",
       " (115, 0.008793926335987415),\n",
       " (66, 0.008736457918849397),\n",
       " (159, 0.008685574883727435),\n",
       " (238, 0.008680071181895725),\n",
       " (186, 0.008623906328078867),\n",
       " (226, 0.008520559475212864),\n",
       " (211, 0.008445469175758776),\n",
       " (56, 0.008202325497986213),\n",
       " (278, 0.00782468439924333),\n",
       " (3, 0.007824579716373535),\n",
       " (79, 0.007821484129583217),\n",
       " (208, 0.007752524545369582),\n",
       " (55, 0.007713483321764894),\n",
       " (64, 0.00766204383123988),\n",
       " (207, 0.0076415001321550385),\n",
       " (61, 0.007587726609085117),\n",
       " (233, 0.007492706973231096),\n",
       " (109, 0.007336816329125731),\n",
       " (235, 0.007265140081034577),\n",
       " (269, 0.00718458312375088),\n",
       " (164, 0.0071463966220523915),\n",
       " (289, 0.007087198126556095),\n",
       " (201, 0.007078952927426615),\n",
       " (173, 0.006942597590028144),\n",
       " (151, 0.006791747456857761),\n",
       " (236, 0.006712458198984945),\n",
       " (225, 0.0067117915010565625),\n",
       " (264, 0.0066912949586644035),\n",
       " (33, 0.006666129666016675),\n",
       " (28, 0.006614501056402577),\n",
       " (19, 0.006593481796813575),\n",
       " (241, 0.006583336189267811),\n",
       " (217, 0.0065578935864303725),\n",
       " (250, 0.006498108301525748),\n",
       " (206, 0.0064805405278784214),\n",
       " (227, 0.006395541780536166),\n",
       " (267, 0.0063205919626152735),\n",
       " (104, 0.006268890190563101),\n",
       " (196, 0.00619040526274197),\n",
       " (156, 0.006135513672099865),\n",
       " (259, 0.006045902318485756),\n",
       " (42, 0.006026285696181656),\n",
       " (171, 0.005947617810358737),\n",
       " (9, 0.005883871954505025),\n",
       " (167, 0.0058727392263668845),\n",
       " (83, 0.005834135295695384),\n",
       " (184, 0.005704990940668236),\n",
       " (154, 0.005616370845547846),\n",
       " (87, 0.0055262628396549095),\n",
       " (43, 0.005513121155103604),\n",
       " (22, 0.005507527641184807),\n",
       " (105, 0.005471904186690873),\n",
       " (69, 0.005463634963997972),\n",
       " (77, 0.005425359207043137),\n",
       " (290, 0.005176229384525826),\n",
       " (96, 0.005164541733269858),\n",
       " (288, 0.005161756711016442),\n",
       " (176, 0.005135707380308466),\n",
       " (26, 0.005092383780080802),\n",
       " (76, 0.005084777216256521),\n",
       " (212, 0.004991263557961278),\n",
       " (75, 0.004962707271298761),\n",
       " (112, 0.004896082497518751),\n",
       " (113, 0.00488590499256516),\n",
       " (216, 0.004846316403642702),\n",
       " (199, 0.004808825419761717),\n",
       " (247, 0.004800157926233048),\n",
       " (101, 0.004776451347398212),\n",
       " (71, 0.0047431164971913605),\n",
       " (65, 0.004685673133916021),\n",
       " (181, 0.004669307184379384),\n",
       " (203, 0.004651276192156532),\n",
       " (266, 0.004643794226677263),\n",
       " (172, 0.00456112076801982),\n",
       " (161, 0.004557238742603859),\n",
       " (286, 0.0044700088746935),\n",
       " (52, 0.004464518988195195),\n",
       " (84, 0.004439791547451438),\n",
       " (20, 0.004384081120200159),\n",
       " (136, 0.0043713420077175985),\n",
       " (37, 0.004350315678681378),\n",
       " (7, 0.004302609784739464),\n",
       " (23, 0.004163760241397188),\n",
       " (149, 0.004108673339736644),\n",
       " (160, 0.0040268334659993455),\n",
       " (51, 0.003983681052625192),\n",
       " (70, 0.003943047957921597),\n",
       " (215, 0.0039248057654195576),\n",
       " (271, 0.003901669777988275),\n",
       " (298, 0.0038959687714168346),\n",
       " (94, 0.0037679939730959865),\n",
       " (166, 0.0037641909725774384),\n",
       " (232, 0.003746962950509259),\n",
       " (145, 0.0037270510112424665),\n",
       " (282, 0.0036435295328251663),\n",
       " (200, 0.0036432882291360935),\n",
       " (18, 0.003633718732907261),\n",
       " (260, 0.003620170261156985),\n",
       " (5, 0.003590817112716664),\n",
       " (107, 0.0035136772014018607),\n",
       " (67, 0.0034850314827023477),\n",
       " (248, 0.0034503587277989237),\n",
       " (185, 0.003428519053924644),\n",
       " (187, 0.0034109111461683643),\n",
       " (126, 0.0033648851649459945),\n",
       " (143, 0.0033416630224369155),\n",
       " (291, 0.00330591285669238),\n",
       " (202, 0.0032793591231536474),\n",
       " (142, 0.00325815653854691),\n",
       " (137, 0.0031093839075310033),\n",
       " (47, 0.0031079978844585133),\n",
       " (111, 0.0031062155188082956),\n",
       " (287, 0.003059962095521884),\n",
       " (249, 0.0030557448806861833),\n",
       " (21, 0.0029877184028321833),\n",
       " (85, 0.0029349546559740585),\n",
       " (98, 0.0029240583066013643),\n",
       " (39, 0.0029224356478930484),\n",
       " (32, 0.002904221793496203),\n",
       " (155, 0.00289191315624337),\n",
       " (138, 0.002806632278578551),\n",
       " (251, 0.0028028675633344226),\n",
       " (189, 0.002763929083052503),\n",
       " (194, 0.0027473018398551335),\n",
       " (252, 0.002741607860212869),\n",
       " (239, 0.002731301876816554),\n",
       " (246, 0.0026956595100857796),\n",
       " (219, 0.0026513402701869096),\n",
       " (62, 0.002586689039416098),\n",
       " (262, 0.0025703717147006248),\n",
       " (8, 0.0025683944561039123),\n",
       " (158, 0.0025659456802066575),\n",
       " (168, 0.0025465396513486426),\n",
       " (183, 0.0025102171232642225),\n",
       " (276, 0.0024676195824914738),\n",
       " (73, 0.0024523939660545868),\n",
       " (188, 0.002439015473555824),\n",
       " (93, 0.0024277865491907948),\n",
       " (34, 0.002405352433593094),\n",
       " (193, 0.002384229225360376),\n",
       " (293, 0.00235819735110751),\n",
       " (31, 0.0023451257623944097),\n",
       " (60, 0.0022779428945016228),\n",
       " (179, 0.002263683465302968),\n",
       " (274, 0.0022270956044393563),\n",
       " (263, 0.002214111831968597),\n",
       " (82, 0.0021650815941089093),\n",
       " (0, 0.0021427593474004597),\n",
       " (2, 0.002137047719288346),\n",
       " (268, 0.0021247003685715116),\n",
       " (153, 0.0021010109776257507),\n",
       " (132, 0.002099403822731542),\n",
       " (279, 0.0020865722388480924),\n",
       " (29, 0.0020826811626315695),\n",
       " (41, 0.002062311632273052),\n",
       " (256, 0.002048672842331815),\n",
       " (95, 0.0020115469584506963),\n",
       " (48, 0.0020060542668479137),\n",
       " (59, 0.001992446900939403),\n",
       " (162, 0.0019882824880921896),\n",
       " (57, 0.001973827344314381),\n",
       " (147, 0.001963371870337077),\n",
       " (210, 0.001960750532008929),\n",
       " (89, 0.0019532297687049394),\n",
       " (54, 0.0019233005385630199),\n",
       " (191, 0.001919302076710393),\n",
       " (240, 0.0018972788244610433),\n",
       " (38, 0.0018960544075368403),\n",
       " (285, 0.0018812226960838489),\n",
       " (195, 0.001854479799422728),\n",
       " (228, 0.0018283812776998041),\n",
       " (131, 0.0018246936299451697),\n",
       " (146, 0.0018013832748683782),\n",
       " (11, 0.0017563081055346505),\n",
       " (270, 0.0017419211368564476),\n",
       " (16, 0.0016914631480018916),\n",
       " (243, 0.001657274071589967),\n",
       " (63, 0.00164973572586477),\n",
       " (53, 0.001641992061769442),\n",
       " (174, 0.0016341923236857583),\n",
       " (170, 0.0016191291750355425),\n",
       " (214, 0.0015898502793178437),\n",
       " (36, 0.0015640919217821169),\n",
       " (15, 0.0015594165205922135),\n",
       " (12, 0.001548569816567766),\n",
       " (177, 0.0015419041041555381),\n",
       " (190, 0.001526672220415825),\n",
       " (14, 0.001525995830996635),\n",
       " (100, 0.0015131973000293557),\n",
       " (130, 0.0014770817364297567),\n",
       " (224, 0.0014737493121121472),\n",
       " (81, 0.0014699093937082036),\n",
       " (281, 0.0014693092075311136),\n",
       " (99, 0.001459478202463732),\n",
       " (169, 0.0014402032741877837),\n",
       " (74, 0.0014137583860266594),\n",
       " (213, 0.0014133289346243538),\n",
       " (175, 0.0014132513045258066),\n",
       " (6, 0.0014112641936201993),\n",
       " (265, 0.0013861874041406436),\n",
       " (86, 0.0013520399121642126),\n",
       " (272, 0.0013475088014513043),\n",
       " (292, 0.0013260534772559008),\n",
       " (222, 0.0013159458452726039),\n",
       " (127, 0.0012976633897718252),\n",
       " (283, 0.0012937298157655649),\n",
       " (35, 0.0012823968506610337),\n",
       " (234, 0.0012810455551169695),\n",
       " (119, 0.0012708069771399134),\n",
       " (135, 0.0012695759252988794),\n",
       " (134, 0.0012477274362609238),\n",
       " (49, 0.001244009235350469),\n",
       " (273, 0.0012394479867254607),\n",
       " (120, 0.0012362246052650605),\n",
       " (148, 0.0012096988719936695),\n",
       " (297, 0.0011971358673283365),\n",
       " (140, 0.0011754378026901078),\n",
       " (122, 0.0011701076503668189),\n",
       " (209, 0.0011448220639493595),\n",
       " (254, 0.0011352114114736862),\n",
       " (180, 0.0011206181624780287),\n",
       " (44, 0.0011205289748804437),\n",
       " (205, 0.001113637946586276),\n",
       " (230, 0.0010989433599600024),\n",
       " (261, 0.0010822823427588664),\n",
       " (106, 0.0010649104582437143),\n",
       " (182, 0.0010388449949842165),\n",
       " (152, 0.0010247726894033339),\n",
       " (91, 0.0009872243379782759),\n",
       " (92, 0.0009365875623590528),\n",
       " (46, 0.0009290781563701528),\n",
       " (253, 0.0009269510162977998),\n",
       " (27, 0.0009186575559403665),\n",
       " (277, 0.0008876029527761374),\n",
       " (1, 0.0008742452747034567),\n",
       " (4, 0.000859487502366963),\n",
       " (258, 0.0008467714157081337),\n",
       " (144, 0.0008452174734327697),\n",
       " (204, 0.0008432693021377109),\n",
       " (121, 0.0008015876809721734),\n",
       " (118, 0.0007873292391570528),\n",
       " (218, 0.0007863767075060524),\n",
       " (197, 0.0007845169674711574),\n",
       " (129, 0.0007788348635772459),\n",
       " (245, 0.0007568288694996716),\n",
       " (123, 0.0007276994275098234),\n",
       " (133, 0.0007190376495566592),\n",
       " (58, 0.0007138269208699848),\n",
       " (163, 0.000700940950983743),\n",
       " (221, 0.0006741041851919006),\n",
       " (30, 0.0006732988781178209),\n",
       " (296, 0.0006157220259176102),\n",
       " (284, 0.0006030135056766681),\n",
       " (257, 0.0005669150426378394),\n",
       " (275, 0.000546104876647539),\n",
       " (114, 0.0005173848938177334),\n",
       " (125, 0.0005077564291790478),\n",
       " (13, 0.0005056921613443849),\n",
       " (117, 0.0004935212661910707),\n",
       " (78, 0.0004737868303391696),\n",
       " (229, 0.00047239598074170586),\n",
       " (223, 0.00038317034636657795)]"
      ]
     },
     "execution_count": 29,
     "metadata": {},
     "output_type": "execute_result"
    }
   ],
   "source": [
    "sorted([(i,topic_stds[i]) for i in range(len(topic_stds))],key=lambda pair:pair[1],reverse=True)"
   ]
  },
  {
   "cell_type": "code",
   "execution_count": 30,
   "metadata": {},
   "outputs": [
    {
     "data": {
      "text/plain": [
       "0.0010649104582437143"
      ]
     },
     "execution_count": 30,
     "metadata": {},
     "output_type": "execute_result"
    }
   ],
   "source": [
    "(topic_stds[106])"
   ]
  },
  {
   "cell_type": "code",
   "execution_count": 31,
   "metadata": {},
   "outputs": [
    {
     "data": {
      "text/plain": [
       "[<matplotlib.lines.Line2D at 0x7f4ad26f7128>]"
      ]
     },
     "execution_count": 31,
     "metadata": {},
     "output_type": "execute_result"
    },
    {
     "data": {
      "image/png": "[encoded data removed]",
      "text/plain": [
       "<matplotlib.figure.Figure at 0x7f4ad01ec748>"
      ]
     },
     "metadata": {},
     "output_type": "display_data"
    }
   ],
   "source": [
    "plt.plot(normalized_AT[:,100])"
   ]
  },
  {
   "cell_type": "code",
   "execution_count": 33,
   "metadata": {},
   "outputs": [],
   "source": [
    "# comp=np.zeros((50,50))\n",
    "# for i in range(50):\n",
    "#     for j in range(50):\n",
    "#         comp[i,j]=np.sum(np.abs((model.AT[i]/np.sum(model.AT[i]))-(model.AT[j]/np.sum(model.AT[j]))))"
   ]
  },
  {
   "cell_type": "markdown",
   "metadata": {},
   "source": [
    "# Bootstrap"
   ]
  },
  {
   "cell_type": "code",
   "execution_count": 214,
   "metadata": {
    "collapsed": true
   },
   "outputs": [],
   "source": [
    "# red_states=['Wyoming', 'Idaho', 'Oklahoma', 'West Virginia', 'Kentucky','North Dakota', 'South Dakota', 'Nebraska', 'Alabama', 'Utah']\n",
    "# blue_states=['Massachusetts', 'Maryland', 'Vermont','Hawaii', 'District of Columbia']"
   ]
  },
  {
   "cell_type": "code",
   "execution_count": 208,
   "metadata": {},
   "outputs": [],
   "source": [
    "with open('three_parts.pkl','rb') as file:\n",
    "    three_parts=pkl.load(file)"
   ]
  },
  {
   "cell_type": "code",
   "execution_count": 210,
   "metadata": {},
   "outputs": [],
   "source": [
    "red_states,swing_states,blue_states=three_parts"
   ]
  },
  {
   "cell_type": "code",
   "execution_count": 213,
   "metadata": {},
   "outputs": [],
   "source": [
    "# swing_states"
   ]
  },
  {
   "cell_type": "code",
   "execution_count": 231,
   "metadata": {},
   "outputs": [],
   "source": [
    "author2id_lower={}\n",
    "for pair in author2id.items():\n",
    "    author2id_lower[pair[0].lower()]=pair[1]"
   ]
  },
  {
   "cell_type": "code",
   "execution_count": 232,
   "metadata": {},
   "outputs": [],
   "source": [
    "red_states_ids=[]\n",
    "for i in red_states:\n",
    "    if i in author2id_lower:\n",
    "        red_states_ids.append(author2id_lower[i])"
   ]
  },
  {
   "cell_type": "code",
   "execution_count": 233,
   "metadata": {
    "collapsed": true
   },
   "outputs": [],
   "source": [
    "blue_states_ids=[]\n",
    "for i in blue_states:\n",
    "    if i in author2id_lower:\n",
    "        blue_states_ids.append(author2id_lower[i])"
   ]
  },
  {
   "cell_type": "code",
   "execution_count": 234,
   "metadata": {},
   "outputs": [
    {
     "data": {
      "text/plain": [
       "[20, 10, 0, 24, 11, 9, 8, 25, 23, 6, 1]"
      ]
     },
     "execution_count": 234,
     "metadata": {},
     "output_type": "execute_result"
    }
   ],
   "source": [
    "red_states_ids"
   ]
  },
  {
   "cell_type": "code",
   "execution_count": 235,
   "metadata": {},
   "outputs": [
    {
     "data": {
      "text/plain": [
       "[15, 21, 27, 16, 7, 2, 17, 13, 12, 4]"
      ]
     },
     "execution_count": 235,
     "metadata": {},
     "output_type": "execute_result"
    }
   ],
   "source": [
    "blue_states_ids"
   ]
  },
  {
   "cell_type": "code",
   "execution_count": 236,
   "metadata": {
    "collapsed": true
   },
   "outputs": [],
   "source": [
    "topic_means=[]\n",
    "for topic in range(n_topic):\n",
    "    topic_means.append(np.mean(normalized_AT[:,topic]))"
   ]
  },
  {
   "cell_type": "code",
   "execution_count": 237,
   "metadata": {},
   "outputs": [],
   "source": [
    "red_means=[]\n",
    "for t in range(n_topic):\n",
    "    red_means.append(np.std(normalized_AT[red_states_ids,t]))\n",
    "\n",
    "interest_red=[]\n",
    "for n in np.arange(len(red_means)):\n",
    "    if (red_means[n]>0.001) and (red_means[n]>topic_means[n]):\n",
    "        interest_red.append(n)"
   ]
  },
  {
   "cell_type": "code",
   "execution_count": 238,
   "metadata": {},
   "outputs": [],
   "source": [
    "blue_means=[]\n",
    "for t in range(n_topic):\n",
    "    blue_means.append(np.std(normalized_AT[blue_states_ids,t]))\n",
    "\n",
    "interest_blue=[]\n",
    "for n in np.arange(len(blue_means)):\n",
    "    if (blue_means[n]>0.001) and (blue_means[n]>topic_means[n]):\n",
    "        interest_blue.append(n)"
   ]
  },
  {
   "cell_type": "code",
   "execution_count": 239,
   "metadata": {
    "collapsed": true
   },
   "outputs": [],
   "source": [
    "std_cut=0.15\n",
    "interest_cross_blue=[]\n",
    "for n in np.arange(len(blue_means)):\n",
    "    if (blue_means[n]>0.001) and (blue_means[n]>topic_means[n]+std_cut*topic_stds[n]) and (red_means[n]>0.001) and (red_means[n]<topic_means[n]-std_cut*topic_stds[n]):\n",
    "        interest_cross_blue.append(n)"
   ]
  },
  {
   "cell_type": "code",
   "execution_count": 81,
   "metadata": {},
   "outputs": [
    {
     "data": {
      "text/plain": [
       "10"
      ]
     },
     "execution_count": 81,
     "metadata": {},
     "output_type": "execute_result"
    }
   ],
   "source": [
    "len(interest_cross_blue)"
   ]
  },
  {
   "cell_type": "code",
   "execution_count": 82,
   "metadata": {
    "collapsed": true
   },
   "outputs": [],
   "source": [
    "interest_cross_red=[]\n",
    "for n in np.arange(len(red_means)):\n",
    "    if (blue_means[n]>0.001) and (blue_means[n]<topic_means[n]-std_cut*topic_stds[n]) and (red_means[n]>0.001) and (red_means[n]>topic_means[n]+std_cut*topic_stds[n]):\n",
    "        interest_cross_red.append(n)"
   ]
  },
  {
   "cell_type": "code",
   "execution_count": 83,
   "metadata": {},
   "outputs": [
    {
     "data": {
      "text/plain": [
       "13"
      ]
     },
     "execution_count": 83,
     "metadata": {},
     "output_type": "execute_result"
    }
   ],
   "source": [
    "len(interest_cross_red)"
   ]
  },
  {
   "cell_type": "code",
   "execution_count": 164,
   "metadata": {
    "collapsed": true
   },
   "outputs": [],
   "source": [
    "# red_stds=[]\n",
    "# for t in range(n_topic):\n",
    "#     red_stds.append(np.std(normalized_AT[red_states_ids,t]))"
   ]
  },
  {
   "cell_type": "code",
   "execution_count": 212,
   "metadata": {
    "collapsed": true
   },
   "outputs": [],
   "source": [
    "# interest_red=[]\n",
    "\n",
    "# for n in np.arange(len(red_stds)):\n",
    "#     if (red_stds[n]>0.001) and (red_stds[n]<topic_stds[n]*0.3):\n",
    "#         interest_red.append(n)"
   ]
  },
  {
   "cell_type": "code",
   "execution_count": 217,
   "metadata": {
    "collapsed": true
   },
   "outputs": [],
   "source": [
    "# blue_stds=[]\n",
    "# for t in range(n_topic):\n",
    "#     blue_stds.append(np.std(normalized_AT[blue_states_ids,t]))\n",
    "    \n",
    "# interest_blue=[]\n",
    "# for n in np.arange(len(blue_stds)):\n",
    "#     if (blue_stds[n]>0.001) and (blue_stds[n]<topic_stds[n]*0.3):\n",
    "#         interest_blue.append(n)"
   ]
  },
  {
   "cell_type": "code",
   "execution_count": 240,
   "metadata": {
    "collapsed": true
   },
   "outputs": [],
   "source": [
    "good_topics=np.arange(normalized_AT.shape[1])"
   ]
  },
  {
   "cell_type": "code",
   "execution_count": 102,
   "metadata": {
    "collapsed": true
   },
   "outputs": [],
   "source": [
    "good_topics=np.array(list(set(interest_cross_blue).union(set(interest_cross_red))))"
   ]
  },
  {
   "cell_type": "code",
   "execution_count": 198,
   "metadata": {
    "collapsed": true
   },
   "outputs": [],
   "source": [
    "good_topics=interest_cross_blue"
   ]
  },
  {
   "cell_type": "code",
   "execution_count": 178,
   "metadata": {
    "collapsed": true
   },
   "outputs": [],
   "source": [
    "good_topics=interest_cross_red"
   ]
  },
  {
   "cell_type": "code",
   "execution_count": 204,
   "metadata": {},
   "outputs": [
    {
     "data": {
      "text/plain": [
       "300"
      ]
     },
     "execution_count": 204,
     "metadata": {},
     "output_type": "execute_result"
    }
   ],
   "source": [
    "len(good_topics)"
   ]
  },
  {
   "cell_type": "code",
   "execution_count": 104,
   "metadata": {},
   "outputs": [
    {
     "data": {
      "text/plain": [
       "array([ 64, 194,   3, 198, 199, 139,  79, 208,  17, 211, 217, 288, 227,\n",
       "       231,  40, 232,  42, 235, 237, 173, 250, 251,  61])"
      ]
     },
     "execution_count": 104,
     "metadata": {},
     "output_type": "execute_result"
    }
   ],
   "source": [
    "good_topics"
   ]
  },
  {
   "cell_type": "code",
   "execution_count": 90,
   "metadata": {},
   "outputs": [
    {
     "data": {
      "text/plain": [
       "array(['shut', 'deadlines', 'luvruet', 'honest', 'monica', 'background',\n",
       "       'fightfor', 'everywhere', 'vanderbilt', 'indiana', 'dude',\n",
       "       'started', 'whacko', 'gnnb', 'china', 'disgust', 'proud',\n",
       "       'kuidmhehm', 'super', 'happens', 'fun', 'morning_joe',\n",
       "       'foxbusiness', 'dismiss', 'female', 'cover', 'asking', 'info',\n",
       "       'went', 'endorsement'], dtype='<U21')"
      ]
     },
     "execution_count": 90,
     "metadata": {},
     "output_type": "execute_result"
    }
   ],
   "source": [
    "k=64\n",
    "get_top_words(model.TW, voca, k, 30)"
   ]
  },
  {
   "cell_type": "code",
   "execution_count": 242,
   "metadata": {},
   "outputs": [],
   "source": [
    "# np.array(red_means)[good_topics]"
   ]
  },
  {
   "cell_type": "code",
   "execution_count": 92,
   "metadata": {
    "scrolled": false
   },
   "outputs": [
    {
     "data": {
      "image/png": "[encoded data removed]",
      "text/plain": [
       "<matplotlib.figure.Figure at 0x7f4ad43047b8>"
      ]
     },
     "metadata": {},
     "output_type": "display_data"
    }
   ],
   "source": [
    "author_id = 13\n",
    "fig = plt.figure(figsize=(12,6))\n",
    "plt.bar(range(len(good_topics)), normalized_AT[author_id,good_topics],label=author_name[author_id])\n",
    "author_id = 20\n",
    "plt.bar(range(len(good_topics)), normalized_AT[author_id,good_topics],color='r',alpha=0.65,label=author_name[author_id])\n",
    "# author_id = 10\n",
    "# plt.bar(range(len(good_topics)), normalized_AT[author_id,good_topics],color='g',alpha=0.65,label=author_name[author_id])\n",
    "\n",
    "plt.legend()\n",
    "plt.title(author_name[author_id])\n",
    "# plt.xticks(np.arange(n_topic)+0.5, ['\\n'.join(get_top_words(model.TW, voca, k, 10)) for k in range(n_topic)])\n",
    "plt.xticks(np.arange(len(good_topics))+0.5, good_topics)\n",
    "plt.show()"
   ]
  },
  {
   "cell_type": "code",
   "execution_count": 243,
   "metadata": {
    "collapsed": true
   },
   "outputs": [],
   "source": [
    "target=np.array(red_means)[good_topics]"
   ]
  },
  {
   "cell_type": "code",
   "execution_count": 249,
   "metadata": {},
   "outputs": [],
   "source": [
    "# target"
   ]
  },
  {
   "cell_type": "code",
   "execution_count": 108,
   "metadata": {
    "collapsed": true
   },
   "outputs": [],
   "source": [
    "def NN(good_topics,target):\n",
    "    scores = normalized_AT[:,good_topics] @ target\n",
    "\n",
    "    lda_pred=[]\n",
    "    ranked_pairs = sorted([(i,scores[i]) for i in range(len(scores))],key=lambda pair:pair[1],reverse=True)\n",
    "    for pair in ranked_pairs:\n",
    "#         print(author_name[pair[0]])\n",
    "        lda_pred.append(author_name[pair[0]].lower())\n",
    "    return lda_pred"
   ]
  },
  {
   "cell_type": "code",
   "execution_count": 166,
   "metadata": {},
   "outputs": [
    {
     "name": "stderr",
     "output_type": "stream",
     "text": [
      "/home/yicheng/anaconda3/lib/python3.6/site-packages/sklearn/ensemble/weight_boosting.py:29: DeprecationWarning: numpy.core.umath_tests is an internal NumPy module and should not be imported. It will be removed in a future NumPy release.\n",
      "  from numpy.core.umath_tests import inner1d\n"
     ]
    }
   ],
   "source": [
    "from sklearn.ensemble import RandomForestClassifier"
   ]
  },
  {
   "cell_type": "code",
   "execution_count": 244,
   "metadata": {},
   "outputs": [],
   "source": [
    "def log_reg(good_topics):\n",
    "    X_red=normalized_AT[red_states_ids,:][:,good_topics]\n",
    "    Y_red=np.zeros((X_red.shape[0]))+1\n",
    "\n",
    "    X_blue=normalized_AT[blue_states_ids,:][:,good_topics]\n",
    "    Y_blue=np.zeros((X_blue.shape[0]))\n",
    "\n",
    "    Y=np.concatenate((Y_red,Y_blue),axis=0)\n",
    "\n",
    "    X=np.concatenate((X_red,X_blue),axis=0)\n",
    "\n",
    "    cl = RandomForestClassifier(n_estimators=1000, max_depth=10,random_state=0)\n",
    "#     cl = LogisticRegression(C=1e5, solver='lbfgs')\n",
    "\n",
    "    cl.fit(X, Y)\n",
    "\n",
    "    score_rank=sorted(list(zip(author_name,cl.predict_proba(normalized_AT[:,good_topics])[:,1])),key=lambda x: x[1],reverse=True)\n",
    "    lda_pred=[]\n",
    "    for pair in score_rank:\n",
    "        lda_pred.append(author_name[pair[0]].lower())\n",
    "    return lda_pred"
   ]
  },
  {
   "cell_type": "code",
   "execution_count": 245,
   "metadata": {},
   "outputs": [
    {
     "name": "stdout",
     "output_type": "stream",
     "text": [
      "['alabama', 'kansas', 'kentucky', 'south carolina', 'louisiana', 'texas', 'tennessee', 'oklahoma', 'georgia', 'indiana', 'arizona', 'north carolina', 'wisconsin', 'ohio', 'virginia', 'michigan', 'florida', 'colorado', 'pennsylvania', 'minnesota', 'california', 'new jersey', 'maryland', 'illinois', 'massachusetts', 'washington', 'new york', 'oregon', 'district of columbia']\n"
     ]
    }
   ],
   "source": [
    "lda_pred=log_reg(good_topics)\n",
    "print(lda_pred)"
   ]
  },
  {
   "cell_type": "code",
   "execution_count": 247,
   "metadata": {},
   "outputs": [
    {
     "name": "stdout",
     "output_type": "stream",
     "text": [
      "['south carolina', 'alabama', 'kentucky', 'arizona', 'texas', 'tennessee', 'california', 'georgia', 'oklahoma', 'kansas', 'indiana', 'florida', 'louisiana', 'ohio', 'colorado', 'washington', 'north carolina', 'new york', 'michigan', 'pennsylvania', 'new jersey', 'illinois', 'oregon', 'virginia', 'maryland', 'massachusetts', 'wisconsin', 'minnesota', 'district of columbia']\n"
     ]
    }
   ],
   "source": [
    "lda_pred=NN(good_topics,target)\n",
    "print(lda_pred)"
   ]
  },
  {
   "cell_type": "code",
   "execution_count": 250,
   "metadata": {},
   "outputs": [
    {
     "data": {
      "text/plain": [
       "0.7740784780023782"
      ]
     },
     "execution_count": 250,
     "metadata": {},
     "output_type": "execute_result"
    }
   ],
   "source": [
    "simple_rank_loss(new_truth,lda_pred)"
   ]
  },
  {
   "cell_type": "code",
   "execution_count": 56,
   "metadata": {
    "collapsed": true
   },
   "outputs": [],
   "source": [
    "import pickle as pkl\n",
    "with open('truth.pkl','rb') as file:\n",
    "    truth=pkl.load(file)\n",
    "with open('web_pred.pkl','rb') as file:\n",
    "    web_pred=pkl.load(file)"
   ]
  },
  {
   "cell_type": "code",
   "execution_count": 57,
   "metadata": {
    "collapsed": true
   },
   "outputs": [],
   "source": [
    "new_truth=[]\n",
    "\n",
    "states_lower=list(map(lambda x:x.lower(),author_name.values()))\n",
    "for state in truth:\n",
    "    if state in set(states_lower):\n",
    "        new_truth.append(state)"
   ]
  },
  {
   "cell_type": "code",
   "execution_count": 58,
   "metadata": {
    "collapsed": true
   },
   "outputs": [],
   "source": [
    "new_wpred=[]\n",
    "\n",
    "states_lower=list(map(lambda x:x.lower(),author_name.values()))\n",
    "for state in web_pred:\n",
    "    if state in set(states_lower):\n",
    "        new_wpred.append(state)"
   ]
  },
  {
   "cell_type": "code",
   "execution_count": 59,
   "metadata": {
    "collapsed": true
   },
   "outputs": [],
   "source": [
    "\n",
    "def simple_rank_loss(new_truth,lda_pred):\n",
    "    truth_rank={}\n",
    "    n=0\n",
    "    for state in new_truth:\n",
    "        truth_rank[state]=n\n",
    "        n+=1\n",
    "\n",
    "\n",
    "    truth_binary_rank={}\n",
    "    for k in range(len(new_truth)):\n",
    "        for j in range(len(new_truth)):\n",
    "            if truth_rank[new_truth[k]]<truth_rank[new_truth[j]]:\n",
    "                truth_binary_rank[(new_truth[k],new_truth[j])]=1\n",
    "            else:\n",
    "                truth_binary_rank[(new_truth[k],new_truth[j])]=0\n",
    "\n",
    "\n",
    "    pred_rank={}\n",
    "    n=0\n",
    "    for state in lda_pred:\n",
    "        pred_rank[state]=n\n",
    "        n+=1\n",
    "\n",
    "\n",
    "    pred_binary_rank={}\n",
    "    for k in range(len(lda_pred)):\n",
    "        for j in range(len(lda_pred)):\n",
    "            if pred_rank[lda_pred[k]]<pred_rank[lda_pred[j]]:\n",
    "                pred_binary_rank[(lda_pred[k],lda_pred[j])]=1\n",
    "            else:\n",
    "                pred_binary_rank[(lda_pred[k],lda_pred[j])]=0\n",
    "\n",
    "    assert len(truth_binary_rank.values()) == len(pred_binary_rank.values())\n",
    "\n",
    "    correct=0\n",
    "    for key in pred_binary_rank.keys():\n",
    "        if pred_binary_rank[key] == truth_binary_rank[key]:\n",
    "            correct+=1\n",
    "\n",
    "    return correct/len(pred_binary_rank.keys())"
   ]
  },
  {
   "cell_type": "code",
   "execution_count": 349,
   "metadata": {},
   "outputs": [
    {
     "data": {
      "text/plain": [
       "0.9595719381688466"
      ]
     },
     "execution_count": 349,
     "metadata": {},
     "output_type": "execute_result"
    }
   ],
   "source": [
    "simple_rank_loss(new_truth,new_wpred)"
   ]
  },
  {
   "cell_type": "markdown",
   "metadata": {},
   "source": [
    "Bootstrap ends"
   ]
  },
  {
   "cell_type": "code",
   "execution_count": 30,
   "metadata": {},
   "outputs": [
    {
     "data": {
      "image/png": "[encoded data removed]",
      "text/plain": [
       "<matplotlib.figure.Figure at 0x7f9ec5aff358>"
      ]
     },
     "metadata": {},
     "output_type": "display_data"
    }
   ],
   "source": [
    "import matplotlib.pyplot as plt\n",
    "import numpy as np\n",
    "\n",
    "plt.imshow(comp, cmap='hot', interpolation='nearest')\n",
    "plt.show()"
   ]
  },
  {
   "cell_type": "code",
   "execution_count": 46,
   "metadata": {},
   "outputs": [
    {
     "data": {
      "image/png": "[encoded data removed]",
      "text/plain": [
       "<matplotlib.figure.Figure at 0x7f9ec4f2c588>"
      ]
     },
     "metadata": {},
     "output_type": "display_data"
    }
   ],
   "source": [
    "for i in range(50):\n",
    "    plt.plot(model.TW[i,:])"
   ]
  },
  {
   "cell_type": "code",
   "execution_count": 44,
   "metadata": {},
   "outputs": [
    {
     "data": {
      "text/plain": [
       "[<matplotlib.lines.Line2D at 0x7f9ec5006278>]"
      ]
     },
     "execution_count": 44,
     "metadata": {},
     "output_type": "execute_result"
    },
    {
     "data": {
      "image/png": "[encoded data removed]",
      "text/plain": [
       "<matplotlib.figure.Figure at 0x7f9ec58cea90>"
      ]
     },
     "metadata": {},
     "output_type": "display_data"
    }
   ],
   "source": [
    "plt.plot(model.TW[30,:])"
   ]
  },
  {
   "cell_type": "code",
   "execution_count": 49,
   "metadata": {},
   "outputs": [
    {
     "data": {
      "text/plain": [
       "(52, 50)"
      ]
     },
     "execution_count": 49,
     "metadata": {},
     "output_type": "execute_result"
    }
   ],
   "source": [
    "model.AT.shape"
   ]
  },
  {
   "cell_type": "code",
   "execution_count": 113,
   "metadata": {
    "scrolled": true
   },
   "outputs": [
    {
     "data": {
      "text/plain": [
       "{0: 'Alabama',\n",
       " 1: 'Arizona',\n",
       " 2: 'California',\n",
       " 3: 'Colorado',\n",
       " 4: 'District of Columbia',\n",
       " 5: 'Florida',\n",
       " 6: 'Georgia',\n",
       " 7: 'Illinois',\n",
       " 8: 'Indiana',\n",
       " 9: 'Kansas',\n",
       " 10: 'Kentucky',\n",
       " 11: 'Louisiana',\n",
       " 12: 'Maryland',\n",
       " 13: 'Massachusetts',\n",
       " 14: 'Michigan',\n",
       " 15: 'Minnesota',\n",
       " 16: 'New Jersey',\n",
       " 17: 'New York',\n",
       " 18: 'North Carolina',\n",
       " 19: 'Ohio',\n",
       " 20: 'Oklahoma',\n",
       " 21: 'Oregon',\n",
       " 22: 'Pennsylvania',\n",
       " 23: 'South Carolina',\n",
       " 24: 'Tennessee',\n",
       " 25: 'Texas',\n",
       " 26: 'Virginia',\n",
       " 27: 'Washington',\n",
       " 28: 'Wisconsin'}"
      ]
     },
     "execution_count": 113,
     "metadata": {},
     "output_type": "execute_result"
    }
   ],
   "source": [
    "author_name"
   ]
  },
  {
   "cell_type": "code",
   "execution_count": 56,
   "metadata": {
    "collapsed": true
   },
   "outputs": [],
   "source": [
    "dists=model.AT\n",
    "\n",
    "\n",
    "topic_dist=pd.DataFrame(dists)\n",
    "\n",
    "topic_dist['state']=list(author_name.values())\n",
    "\n",
    "# topic_dist.sort_values(by=[1],ascending=False)"
   ]
  },
  {
   "cell_type": "code",
   "execution_count": 57,
   "metadata": {},
   "outputs": [
    {
     "data": {
      "text/html": [
       "<div>\n",
       "<style scoped>\n",
       "    .dataframe tbody tr th:only-of-type {\n",
       "        vertical-align: middle;\n",
       "    }\n",
       "\n",
       "    .dataframe tbody tr th {\n",
       "        vertical-align: top;\n",
       "    }\n",
       "\n",
       "    .dataframe thead th {\n",
       "        text-align: right;\n",
       "    }\n",
       "</style>\n",
       "<table border=\"1\" class=\"dataframe\">\n",
       "  <thead>\n",
       "    <tr style=\"text-align: right;\">\n",
       "      <th></th>\n",
       "      <th>0</th>\n",
       "      <th>1</th>\n",
       "      <th>2</th>\n",
       "      <th>3</th>\n",
       "      <th>4</th>\n",
       "      <th>5</th>\n",
       "      <th>6</th>\n",
       "      <th>7</th>\n",
       "      <th>8</th>\n",
       "      <th>9</th>\n",
       "      <th>...</th>\n",
       "      <th>41</th>\n",
       "      <th>42</th>\n",
       "      <th>43</th>\n",
       "      <th>44</th>\n",
       "      <th>45</th>\n",
       "      <th>46</th>\n",
       "      <th>47</th>\n",
       "      <th>48</th>\n",
       "      <th>49</th>\n",
       "      <th>state</th>\n",
       "    </tr>\n",
       "  </thead>\n",
       "  <tbody>\n",
       "    <tr>\n",
       "      <th>0</th>\n",
       "      <td>28.1</td>\n",
       "      <td>6.1</td>\n",
       "      <td>2.1</td>\n",
       "      <td>30.1</td>\n",
       "      <td>48.1</td>\n",
       "      <td>60.1</td>\n",
       "      <td>22.1</td>\n",
       "      <td>13.1</td>\n",
       "      <td>18.1</td>\n",
       "      <td>2.1</td>\n",
       "      <td>...</td>\n",
       "      <td>36.1</td>\n",
       "      <td>0.1</td>\n",
       "      <td>0.1</td>\n",
       "      <td>9.1</td>\n",
       "      <td>11.1</td>\n",
       "      <td>8.1</td>\n",
       "      <td>12.1</td>\n",
       "      <td>0.1</td>\n",
       "      <td>40.1</td>\n",
       "      <td>Alabama</td>\n",
       "    </tr>\n",
       "    <tr>\n",
       "      <th>1</th>\n",
       "      <td>12.1</td>\n",
       "      <td>4.1</td>\n",
       "      <td>0.1</td>\n",
       "      <td>0.1</td>\n",
       "      <td>0.1</td>\n",
       "      <td>0.1</td>\n",
       "      <td>7.1</td>\n",
       "      <td>2.1</td>\n",
       "      <td>0.1</td>\n",
       "      <td>0.1</td>\n",
       "      <td>...</td>\n",
       "      <td>0.1</td>\n",
       "      <td>6.1</td>\n",
       "      <td>0.1</td>\n",
       "      <td>0.1</td>\n",
       "      <td>0.1</td>\n",
       "      <td>8.1</td>\n",
       "      <td>0.1</td>\n",
       "      <td>0.1</td>\n",
       "      <td>8.1</td>\n",
       "      <td>Alaska</td>\n",
       "    </tr>\n",
       "    <tr>\n",
       "      <th>2</th>\n",
       "      <td>18.1</td>\n",
       "      <td>125.1</td>\n",
       "      <td>2.1</td>\n",
       "      <td>107.1</td>\n",
       "      <td>88.1</td>\n",
       "      <td>10.1</td>\n",
       "      <td>131.1</td>\n",
       "      <td>19.1</td>\n",
       "      <td>104.1</td>\n",
       "      <td>35.1</td>\n",
       "      <td>...</td>\n",
       "      <td>4.1</td>\n",
       "      <td>0.1</td>\n",
       "      <td>37.1</td>\n",
       "      <td>60.1</td>\n",
       "      <td>43.1</td>\n",
       "      <td>5.1</td>\n",
       "      <td>14.1</td>\n",
       "      <td>1.1</td>\n",
       "      <td>76.1</td>\n",
       "      <td>Arizona</td>\n",
       "    </tr>\n",
       "    <tr>\n",
       "      <th>3</th>\n",
       "      <td>18.1</td>\n",
       "      <td>19.1</td>\n",
       "      <td>0.1</td>\n",
       "      <td>0.1</td>\n",
       "      <td>4.1</td>\n",
       "      <td>0.1</td>\n",
       "      <td>3.1</td>\n",
       "      <td>21.1</td>\n",
       "      <td>0.1</td>\n",
       "      <td>1.1</td>\n",
       "      <td>...</td>\n",
       "      <td>0.1</td>\n",
       "      <td>2.1</td>\n",
       "      <td>0.1</td>\n",
       "      <td>5.1</td>\n",
       "      <td>18.1</td>\n",
       "      <td>0.1</td>\n",
       "      <td>0.1</td>\n",
       "      <td>0.1</td>\n",
       "      <td>20.1</td>\n",
       "      <td>Arkansas</td>\n",
       "    </tr>\n",
       "    <tr>\n",
       "      <th>4</th>\n",
       "      <td>80.1</td>\n",
       "      <td>142.1</td>\n",
       "      <td>55.1</td>\n",
       "      <td>122.1</td>\n",
       "      <td>115.1</td>\n",
       "      <td>0.1</td>\n",
       "      <td>110.1</td>\n",
       "      <td>67.1</td>\n",
       "      <td>147.1</td>\n",
       "      <td>24.1</td>\n",
       "      <td>...</td>\n",
       "      <td>54.1</td>\n",
       "      <td>139.1</td>\n",
       "      <td>88.1</td>\n",
       "      <td>32.1</td>\n",
       "      <td>99.1</td>\n",
       "      <td>201.1</td>\n",
       "      <td>38.1</td>\n",
       "      <td>0.1</td>\n",
       "      <td>135.1</td>\n",
       "      <td>California</td>\n",
       "    </tr>\n",
       "    <tr>\n",
       "      <th>5</th>\n",
       "      <td>35.1</td>\n",
       "      <td>41.1</td>\n",
       "      <td>0.1</td>\n",
       "      <td>28.1</td>\n",
       "      <td>56.1</td>\n",
       "      <td>0.1</td>\n",
       "      <td>29.1</td>\n",
       "      <td>0.1</td>\n",
       "      <td>19.1</td>\n",
       "      <td>183.1</td>\n",
       "      <td>...</td>\n",
       "      <td>102.1</td>\n",
       "      <td>16.1</td>\n",
       "      <td>6.1</td>\n",
       "      <td>21.1</td>\n",
       "      <td>18.1</td>\n",
       "      <td>47.1</td>\n",
       "      <td>8.1</td>\n",
       "      <td>0.1</td>\n",
       "      <td>43.1</td>\n",
       "      <td>Colorado</td>\n",
       "    </tr>\n",
       "    <tr>\n",
       "      <th>6</th>\n",
       "      <td>0.1</td>\n",
       "      <td>11.1</td>\n",
       "      <td>0.1</td>\n",
       "      <td>19.1</td>\n",
       "      <td>6.1</td>\n",
       "      <td>0.1</td>\n",
       "      <td>4.1</td>\n",
       "      <td>0.1</td>\n",
       "      <td>40.1</td>\n",
       "      <td>0.1</td>\n",
       "      <td>...</td>\n",
       "      <td>0.1</td>\n",
       "      <td>10.1</td>\n",
       "      <td>28.1</td>\n",
       "      <td>7.1</td>\n",
       "      <td>0.1</td>\n",
       "      <td>23.1</td>\n",
       "      <td>1.1</td>\n",
       "      <td>0.1</td>\n",
       "      <td>26.1</td>\n",
       "      <td>Connecticut</td>\n",
       "    </tr>\n",
       "    <tr>\n",
       "      <th>7</th>\n",
       "      <td>1.1</td>\n",
       "      <td>0.1</td>\n",
       "      <td>0.1</td>\n",
       "      <td>1.1</td>\n",
       "      <td>4.1</td>\n",
       "      <td>3.1</td>\n",
       "      <td>10.1</td>\n",
       "      <td>10.1</td>\n",
       "      <td>5.1</td>\n",
       "      <td>3.1</td>\n",
       "      <td>...</td>\n",
       "      <td>0.1</td>\n",
       "      <td>3.1</td>\n",
       "      <td>3.1</td>\n",
       "      <td>0.1</td>\n",
       "      <td>0.1</td>\n",
       "      <td>8.1</td>\n",
       "      <td>2.1</td>\n",
       "      <td>0.1</td>\n",
       "      <td>0.1</td>\n",
       "      <td>Delaware</td>\n",
       "    </tr>\n",
       "    <tr>\n",
       "      <th>8</th>\n",
       "      <td>10.1</td>\n",
       "      <td>74.1</td>\n",
       "      <td>51.1</td>\n",
       "      <td>44.1</td>\n",
       "      <td>134.1</td>\n",
       "      <td>1.1</td>\n",
       "      <td>44.1</td>\n",
       "      <td>43.1</td>\n",
       "      <td>49.1</td>\n",
       "      <td>3.1</td>\n",
       "      <td>...</td>\n",
       "      <td>0.1</td>\n",
       "      <td>35.1</td>\n",
       "      <td>34.1</td>\n",
       "      <td>48.1</td>\n",
       "      <td>53.1</td>\n",
       "      <td>70.1</td>\n",
       "      <td>20.1</td>\n",
       "      <td>0.1</td>\n",
       "      <td>131.1</td>\n",
       "      <td>District of Columbia</td>\n",
       "    </tr>\n",
       "    <tr>\n",
       "      <th>9</th>\n",
       "      <td>115.1</td>\n",
       "      <td>124.1</td>\n",
       "      <td>60.1</td>\n",
       "      <td>126.1</td>\n",
       "      <td>103.1</td>\n",
       "      <td>57.1</td>\n",
       "      <td>117.1</td>\n",
       "      <td>93.1</td>\n",
       "      <td>119.1</td>\n",
       "      <td>21.1</td>\n",
       "      <td>...</td>\n",
       "      <td>2.1</td>\n",
       "      <td>76.1</td>\n",
       "      <td>69.1</td>\n",
       "      <td>51.1</td>\n",
       "      <td>0.1</td>\n",
       "      <td>86.1</td>\n",
       "      <td>38.1</td>\n",
       "      <td>5.1</td>\n",
       "      <td>89.1</td>\n",
       "      <td>Florida</td>\n",
       "    </tr>\n",
       "    <tr>\n",
       "      <th>10</th>\n",
       "      <td>4.1</td>\n",
       "      <td>36.1</td>\n",
       "      <td>0.1</td>\n",
       "      <td>36.1</td>\n",
       "      <td>67.1</td>\n",
       "      <td>11.1</td>\n",
       "      <td>55.1</td>\n",
       "      <td>0.1</td>\n",
       "      <td>19.1</td>\n",
       "      <td>2.1</td>\n",
       "      <td>...</td>\n",
       "      <td>0.1</td>\n",
       "      <td>12.1</td>\n",
       "      <td>34.1</td>\n",
       "      <td>0.1</td>\n",
       "      <td>60.1</td>\n",
       "      <td>30.1</td>\n",
       "      <td>1.1</td>\n",
       "      <td>487.1</td>\n",
       "      <td>35.1</td>\n",
       "      <td>Georgia</td>\n",
       "    </tr>\n",
       "    <tr>\n",
       "      <th>11</th>\n",
       "      <td>3.1</td>\n",
       "      <td>0.1</td>\n",
       "      <td>0.1</td>\n",
       "      <td>10.1</td>\n",
       "      <td>16.1</td>\n",
       "      <td>0.1</td>\n",
       "      <td>11.1</td>\n",
       "      <td>3.1</td>\n",
       "      <td>2.1</td>\n",
       "      <td>2.1</td>\n",
       "      <td>...</td>\n",
       "      <td>4.1</td>\n",
       "      <td>2.1</td>\n",
       "      <td>1.1</td>\n",
       "      <td>26.1</td>\n",
       "      <td>0.1</td>\n",
       "      <td>0.1</td>\n",
       "      <td>1.1</td>\n",
       "      <td>0.1</td>\n",
       "      <td>0.1</td>\n",
       "      <td>Hawaii</td>\n",
       "    </tr>\n",
       "    <tr>\n",
       "      <th>12</th>\n",
       "      <td>15.1</td>\n",
       "      <td>0.1</td>\n",
       "      <td>2.1</td>\n",
       "      <td>19.1</td>\n",
       "      <td>3.1</td>\n",
       "      <td>0.1</td>\n",
       "      <td>0.1</td>\n",
       "      <td>12.1</td>\n",
       "      <td>3.1</td>\n",
       "      <td>0.1</td>\n",
       "      <td>...</td>\n",
       "      <td>10.1</td>\n",
       "      <td>0.1</td>\n",
       "      <td>7.1</td>\n",
       "      <td>0.1</td>\n",
       "      <td>9.1</td>\n",
       "      <td>0.1</td>\n",
       "      <td>34.1</td>\n",
       "      <td>0.1</td>\n",
       "      <td>1.1</td>\n",
       "      <td>Idaho</td>\n",
       "    </tr>\n",
       "    <tr>\n",
       "      <th>13</th>\n",
       "      <td>4.1</td>\n",
       "      <td>113.1</td>\n",
       "      <td>53.1</td>\n",
       "      <td>51.1</td>\n",
       "      <td>172.1</td>\n",
       "      <td>35.1</td>\n",
       "      <td>97.1</td>\n",
       "      <td>37.1</td>\n",
       "      <td>69.1</td>\n",
       "      <td>15.1</td>\n",
       "      <td>...</td>\n",
       "      <td>38.1</td>\n",
       "      <td>154.1</td>\n",
       "      <td>86.1</td>\n",
       "      <td>31.1</td>\n",
       "      <td>69.1</td>\n",
       "      <td>44.1</td>\n",
       "      <td>57.1</td>\n",
       "      <td>0.1</td>\n",
       "      <td>105.1</td>\n",
       "      <td>Illinois</td>\n",
       "    </tr>\n",
       "    <tr>\n",
       "      <th>14</th>\n",
       "      <td>0.1</td>\n",
       "      <td>47.1</td>\n",
       "      <td>34.1</td>\n",
       "      <td>23.1</td>\n",
       "      <td>58.1</td>\n",
       "      <td>29.1</td>\n",
       "      <td>17.1</td>\n",
       "      <td>15.1</td>\n",
       "      <td>26.1</td>\n",
       "      <td>0.1</td>\n",
       "      <td>...</td>\n",
       "      <td>0.1</td>\n",
       "      <td>13.1</td>\n",
       "      <td>33.1</td>\n",
       "      <td>31.1</td>\n",
       "      <td>4.1</td>\n",
       "      <td>47.1</td>\n",
       "      <td>5.1</td>\n",
       "      <td>0.1</td>\n",
       "      <td>32.1</td>\n",
       "      <td>Indiana</td>\n",
       "    </tr>\n",
       "    <tr>\n",
       "      <th>15</th>\n",
       "      <td>0.1</td>\n",
       "      <td>11.1</td>\n",
       "      <td>21.1</td>\n",
       "      <td>18.1</td>\n",
       "      <td>24.1</td>\n",
       "      <td>1.1</td>\n",
       "      <td>9.1</td>\n",
       "      <td>1.1</td>\n",
       "      <td>16.1</td>\n",
       "      <td>0.1</td>\n",
       "      <td>...</td>\n",
       "      <td>3.1</td>\n",
       "      <td>0.1</td>\n",
       "      <td>0.1</td>\n",
       "      <td>0.1</td>\n",
       "      <td>7.1</td>\n",
       "      <td>9.1</td>\n",
       "      <td>0.1</td>\n",
       "      <td>0.1</td>\n",
       "      <td>9.1</td>\n",
       "      <td>Iowa</td>\n",
       "    </tr>\n",
       "    <tr>\n",
       "      <th>16</th>\n",
       "      <td>3.1</td>\n",
       "      <td>33.1</td>\n",
       "      <td>23.1</td>\n",
       "      <td>0.1</td>\n",
       "      <td>31.1</td>\n",
       "      <td>20.1</td>\n",
       "      <td>9.1</td>\n",
       "      <td>22.1</td>\n",
       "      <td>1.1</td>\n",
       "      <td>0.1</td>\n",
       "      <td>...</td>\n",
       "      <td>0.1</td>\n",
       "      <td>11.1</td>\n",
       "      <td>40.1</td>\n",
       "      <td>56.1</td>\n",
       "      <td>23.1</td>\n",
       "      <td>0.1</td>\n",
       "      <td>5.1</td>\n",
       "      <td>0.1</td>\n",
       "      <td>0.1</td>\n",
       "      <td>Kansas</td>\n",
       "    </tr>\n",
       "    <tr>\n",
       "      <th>17</th>\n",
       "      <td>1.1</td>\n",
       "      <td>43.1</td>\n",
       "      <td>0.1</td>\n",
       "      <td>17.1</td>\n",
       "      <td>27.1</td>\n",
       "      <td>16.1</td>\n",
       "      <td>5.1</td>\n",
       "      <td>3.1</td>\n",
       "      <td>7.1</td>\n",
       "      <td>16.1</td>\n",
       "      <td>...</td>\n",
       "      <td>1.1</td>\n",
       "      <td>11.1</td>\n",
       "      <td>0.1</td>\n",
       "      <td>4.1</td>\n",
       "      <td>0.1</td>\n",
       "      <td>9.1</td>\n",
       "      <td>0.1</td>\n",
       "      <td>0.1</td>\n",
       "      <td>14.1</td>\n",
       "      <td>Kentucky</td>\n",
       "    </tr>\n",
       "    <tr>\n",
       "      <th>18</th>\n",
       "      <td>0.1</td>\n",
       "      <td>0.1</td>\n",
       "      <td>8.1</td>\n",
       "      <td>16.1</td>\n",
       "      <td>6.1</td>\n",
       "      <td>0.1</td>\n",
       "      <td>18.1</td>\n",
       "      <td>17.1</td>\n",
       "      <td>0.1</td>\n",
       "      <td>0.1</td>\n",
       "      <td>...</td>\n",
       "      <td>0.1</td>\n",
       "      <td>0.1</td>\n",
       "      <td>0.1</td>\n",
       "      <td>0.1</td>\n",
       "      <td>0.1</td>\n",
       "      <td>3.1</td>\n",
       "      <td>0.1</td>\n",
       "      <td>0.1</td>\n",
       "      <td>6.1</td>\n",
       "      <td>Louisiana</td>\n",
       "    </tr>\n",
       "    <tr>\n",
       "      <th>19</th>\n",
       "      <td>0.1</td>\n",
       "      <td>10.1</td>\n",
       "      <td>8.1</td>\n",
       "      <td>0.1</td>\n",
       "      <td>14.1</td>\n",
       "      <td>5.1</td>\n",
       "      <td>1.1</td>\n",
       "      <td>12.1</td>\n",
       "      <td>0.1</td>\n",
       "      <td>0.1</td>\n",
       "      <td>...</td>\n",
       "      <td>0.1</td>\n",
       "      <td>0.1</td>\n",
       "      <td>0.1</td>\n",
       "      <td>1.1</td>\n",
       "      <td>3.1</td>\n",
       "      <td>1.1</td>\n",
       "      <td>0.1</td>\n",
       "      <td>0.1</td>\n",
       "      <td>5.1</td>\n",
       "      <td>Maine</td>\n",
       "    </tr>\n",
       "    <tr>\n",
       "      <th>20</th>\n",
       "      <td>10.1</td>\n",
       "      <td>12.1</td>\n",
       "      <td>19.1</td>\n",
       "      <td>47.1</td>\n",
       "      <td>66.1</td>\n",
       "      <td>37.1</td>\n",
       "      <td>1.1</td>\n",
       "      <td>28.1</td>\n",
       "      <td>19.1</td>\n",
       "      <td>2.1</td>\n",
       "      <td>...</td>\n",
       "      <td>0.1</td>\n",
       "      <td>21.1</td>\n",
       "      <td>58.1</td>\n",
       "      <td>38.1</td>\n",
       "      <td>16.1</td>\n",
       "      <td>47.1</td>\n",
       "      <td>5.1</td>\n",
       "      <td>0.1</td>\n",
       "      <td>54.1</td>\n",
       "      <td>Maryland</td>\n",
       "    </tr>\n",
       "    <tr>\n",
       "      <th>21</th>\n",
       "      <td>0.1</td>\n",
       "      <td>56.1</td>\n",
       "      <td>60.1</td>\n",
       "      <td>83.1</td>\n",
       "      <td>89.1</td>\n",
       "      <td>83.1</td>\n",
       "      <td>57.1</td>\n",
       "      <td>49.1</td>\n",
       "      <td>57.1</td>\n",
       "      <td>18.1</td>\n",
       "      <td>...</td>\n",
       "      <td>0.1</td>\n",
       "      <td>13.1</td>\n",
       "      <td>98.1</td>\n",
       "      <td>15.1</td>\n",
       "      <td>1.1</td>\n",
       "      <td>61.1</td>\n",
       "      <td>79.1</td>\n",
       "      <td>1.1</td>\n",
       "      <td>106.1</td>\n",
       "      <td>Massachusetts</td>\n",
       "    </tr>\n",
       "    <tr>\n",
       "      <th>22</th>\n",
       "      <td>38.1</td>\n",
       "      <td>72.1</td>\n",
       "      <td>1.1</td>\n",
       "      <td>39.1</td>\n",
       "      <td>29.1</td>\n",
       "      <td>12.1</td>\n",
       "      <td>38.1</td>\n",
       "      <td>29.1</td>\n",
       "      <td>33.1</td>\n",
       "      <td>0.1</td>\n",
       "      <td>...</td>\n",
       "      <td>1.1</td>\n",
       "      <td>14.1</td>\n",
       "      <td>0.1</td>\n",
       "      <td>30.1</td>\n",
       "      <td>9.1</td>\n",
       "      <td>0.1</td>\n",
       "      <td>0.1</td>\n",
       "      <td>0.1</td>\n",
       "      <td>44.1</td>\n",
       "      <td>Michigan</td>\n",
       "    </tr>\n",
       "    <tr>\n",
       "      <th>23</th>\n",
       "      <td>11.1</td>\n",
       "      <td>23.1</td>\n",
       "      <td>10.1</td>\n",
       "      <td>3.1</td>\n",
       "      <td>59.1</td>\n",
       "      <td>0.1</td>\n",
       "      <td>25.1</td>\n",
       "      <td>19.1</td>\n",
       "      <td>10.1</td>\n",
       "      <td>8.1</td>\n",
       "      <td>...</td>\n",
       "      <td>0.1</td>\n",
       "      <td>0.1</td>\n",
       "      <td>0.1</td>\n",
       "      <td>43.1</td>\n",
       "      <td>21.1</td>\n",
       "      <td>30.1</td>\n",
       "      <td>53.1</td>\n",
       "      <td>0.1</td>\n",
       "      <td>48.1</td>\n",
       "      <td>Minnesota</td>\n",
       "    </tr>\n",
       "    <tr>\n",
       "      <th>24</th>\n",
       "      <td>6.1</td>\n",
       "      <td>6.1</td>\n",
       "      <td>0.1</td>\n",
       "      <td>0.1</td>\n",
       "      <td>10.1</td>\n",
       "      <td>10.1</td>\n",
       "      <td>15.1</td>\n",
       "      <td>25.1</td>\n",
       "      <td>0.1</td>\n",
       "      <td>1.1</td>\n",
       "      <td>...</td>\n",
       "      <td>4.1</td>\n",
       "      <td>9.1</td>\n",
       "      <td>0.1</td>\n",
       "      <td>2.1</td>\n",
       "      <td>0.1</td>\n",
       "      <td>0.1</td>\n",
       "      <td>0.1</td>\n",
       "      <td>0.1</td>\n",
       "      <td>0.1</td>\n",
       "      <td>Mississippi</td>\n",
       "    </tr>\n",
       "    <tr>\n",
       "      <th>25</th>\n",
       "      <td>11.1</td>\n",
       "      <td>2.1</td>\n",
       "      <td>5.1</td>\n",
       "      <td>20.1</td>\n",
       "      <td>7.1</td>\n",
       "      <td>13.1</td>\n",
       "      <td>18.1</td>\n",
       "      <td>0.1</td>\n",
       "      <td>0.1</td>\n",
       "      <td>0.1</td>\n",
       "      <td>...</td>\n",
       "      <td>0.1</td>\n",
       "      <td>19.1</td>\n",
       "      <td>0.1</td>\n",
       "      <td>3.1</td>\n",
       "      <td>1.1</td>\n",
       "      <td>20.1</td>\n",
       "      <td>0.1</td>\n",
       "      <td>3.1</td>\n",
       "      <td>0.1</td>\n",
       "      <td>Missouri</td>\n",
       "    </tr>\n",
       "    <tr>\n",
       "      <th>26</th>\n",
       "      <td>0.1</td>\n",
       "      <td>0.1</td>\n",
       "      <td>0.1</td>\n",
       "      <td>2.1</td>\n",
       "      <td>1.1</td>\n",
       "      <td>0.1</td>\n",
       "      <td>1.1</td>\n",
       "      <td>1.1</td>\n",
       "      <td>2.1</td>\n",
       "      <td>0.1</td>\n",
       "      <td>...</td>\n",
       "      <td>1.1</td>\n",
       "      <td>0.1</td>\n",
       "      <td>1.1</td>\n",
       "      <td>0.1</td>\n",
       "      <td>0.1</td>\n",
       "      <td>0.1</td>\n",
       "      <td>6.1</td>\n",
       "      <td>0.1</td>\n",
       "      <td>0.1</td>\n",
       "      <td>Montana</td>\n",
       "    </tr>\n",
       "    <tr>\n",
       "      <th>27</th>\n",
       "      <td>0.1</td>\n",
       "      <td>0.1</td>\n",
       "      <td>5.1</td>\n",
       "      <td>0.1</td>\n",
       "      <td>2.1</td>\n",
       "      <td>7.1</td>\n",
       "      <td>3.1</td>\n",
       "      <td>0.1</td>\n",
       "      <td>0.1</td>\n",
       "      <td>0.1</td>\n",
       "      <td>...</td>\n",
       "      <td>0.1</td>\n",
       "      <td>0.1</td>\n",
       "      <td>0.1</td>\n",
       "      <td>0.1</td>\n",
       "      <td>0.1</td>\n",
       "      <td>0.1</td>\n",
       "      <td>0.1</td>\n",
       "      <td>0.1</td>\n",
       "      <td>4.1</td>\n",
       "      <td>National</td>\n",
       "    </tr>\n",
       "    <tr>\n",
       "      <th>28</th>\n",
       "      <td>3.1</td>\n",
       "      <td>20.1</td>\n",
       "      <td>0.1</td>\n",
       "      <td>6.1</td>\n",
       "      <td>35.1</td>\n",
       "      <td>1.1</td>\n",
       "      <td>0.1</td>\n",
       "      <td>30.1</td>\n",
       "      <td>0.1</td>\n",
       "      <td>0.1</td>\n",
       "      <td>...</td>\n",
       "      <td>0.1</td>\n",
       "      <td>17.1</td>\n",
       "      <td>14.1</td>\n",
       "      <td>0.1</td>\n",
       "      <td>1.1</td>\n",
       "      <td>2.1</td>\n",
       "      <td>2.1</td>\n",
       "      <td>0.1</td>\n",
       "      <td>31.1</td>\n",
       "      <td>Nebraska</td>\n",
       "    </tr>\n",
       "    <tr>\n",
       "      <th>29</th>\n",
       "      <td>3.1</td>\n",
       "      <td>13.1</td>\n",
       "      <td>42.1</td>\n",
       "      <td>12.1</td>\n",
       "      <td>28.1</td>\n",
       "      <td>35.1</td>\n",
       "      <td>59.1</td>\n",
       "      <td>23.1</td>\n",
       "      <td>5.1</td>\n",
       "      <td>0.1</td>\n",
       "      <td>...</td>\n",
       "      <td>5.1</td>\n",
       "      <td>31.1</td>\n",
       "      <td>4.1</td>\n",
       "      <td>13.1</td>\n",
       "      <td>1.1</td>\n",
       "      <td>1.1</td>\n",
       "      <td>0.1</td>\n",
       "      <td>0.1</td>\n",
       "      <td>24.1</td>\n",
       "      <td>Nevada</td>\n",
       "    </tr>\n",
       "    <tr>\n",
       "      <th>30</th>\n",
       "      <td>1.1</td>\n",
       "      <td>23.1</td>\n",
       "      <td>10.1</td>\n",
       "      <td>0.1</td>\n",
       "      <td>1.1</td>\n",
       "      <td>0.1</td>\n",
       "      <td>16.1</td>\n",
       "      <td>11.1</td>\n",
       "      <td>13.1</td>\n",
       "      <td>0.1</td>\n",
       "      <td>...</td>\n",
       "      <td>0.1</td>\n",
       "      <td>33.1</td>\n",
       "      <td>0.1</td>\n",
       "      <td>8.1</td>\n",
       "      <td>3.1</td>\n",
       "      <td>0.1</td>\n",
       "      <td>6.1</td>\n",
       "      <td>0.1</td>\n",
       "      <td>18.1</td>\n",
       "      <td>New Hampshire</td>\n",
       "    </tr>\n",
       "    <tr>\n",
       "      <th>31</th>\n",
       "      <td>44.1</td>\n",
       "      <td>19.1</td>\n",
       "      <td>0.1</td>\n",
       "      <td>45.1</td>\n",
       "      <td>50.1</td>\n",
       "      <td>59.1</td>\n",
       "      <td>69.1</td>\n",
       "      <td>31.1</td>\n",
       "      <td>24.1</td>\n",
       "      <td>1.1</td>\n",
       "      <td>...</td>\n",
       "      <td>10.1</td>\n",
       "      <td>26.1</td>\n",
       "      <td>52.1</td>\n",
       "      <td>14.1</td>\n",
       "      <td>43.1</td>\n",
       "      <td>39.1</td>\n",
       "      <td>36.1</td>\n",
       "      <td>0.1</td>\n",
       "      <td>57.1</td>\n",
       "      <td>New Jersey</td>\n",
       "    </tr>\n",
       "    <tr>\n",
       "      <th>32</th>\n",
       "      <td>0.1</td>\n",
       "      <td>15.1</td>\n",
       "      <td>0.1</td>\n",
       "      <td>0.1</td>\n",
       "      <td>14.1</td>\n",
       "      <td>4.1</td>\n",
       "      <td>5.1</td>\n",
       "      <td>0.1</td>\n",
       "      <td>0.1</td>\n",
       "      <td>0.1</td>\n",
       "      <td>...</td>\n",
       "      <td>0.1</td>\n",
       "      <td>6.1</td>\n",
       "      <td>7.1</td>\n",
       "      <td>0.1</td>\n",
       "      <td>3.1</td>\n",
       "      <td>10.1</td>\n",
       "      <td>5.1</td>\n",
       "      <td>1.1</td>\n",
       "      <td>0.1</td>\n",
       "      <td>New Mexico</td>\n",
       "    </tr>\n",
       "    <tr>\n",
       "      <th>33</th>\n",
       "      <td>132.1</td>\n",
       "      <td>225.1</td>\n",
       "      <td>112.1</td>\n",
       "      <td>260.1</td>\n",
       "      <td>400.1</td>\n",
       "      <td>131.1</td>\n",
       "      <td>221.1</td>\n",
       "      <td>161.1</td>\n",
       "      <td>111.1</td>\n",
       "      <td>58.1</td>\n",
       "      <td>...</td>\n",
       "      <td>8.1</td>\n",
       "      <td>267.1</td>\n",
       "      <td>236.1</td>\n",
       "      <td>243.1</td>\n",
       "      <td>283.1</td>\n",
       "      <td>262.1</td>\n",
       "      <td>103.1</td>\n",
       "      <td>0.1</td>\n",
       "      <td>281.1</td>\n",
       "      <td>New York</td>\n",
       "    </tr>\n",
       "    <tr>\n",
       "      <th>34</th>\n",
       "      <td>0.1</td>\n",
       "      <td>83.1</td>\n",
       "      <td>32.1</td>\n",
       "      <td>100.1</td>\n",
       "      <td>47.1</td>\n",
       "      <td>80.1</td>\n",
       "      <td>13.1</td>\n",
       "      <td>45.1</td>\n",
       "      <td>43.1</td>\n",
       "      <td>10.1</td>\n",
       "      <td>...</td>\n",
       "      <td>0.1</td>\n",
       "      <td>41.1</td>\n",
       "      <td>81.1</td>\n",
       "      <td>72.1</td>\n",
       "      <td>51.1</td>\n",
       "      <td>80.1</td>\n",
       "      <td>37.1</td>\n",
       "      <td>0.1</td>\n",
       "      <td>80.1</td>\n",
       "      <td>North Carolina</td>\n",
       "    </tr>\n",
       "    <tr>\n",
       "      <th>35</th>\n",
       "      <td>1.1</td>\n",
       "      <td>0.1</td>\n",
       "      <td>1.1</td>\n",
       "      <td>11.1</td>\n",
       "      <td>0.1</td>\n",
       "      <td>2.1</td>\n",
       "      <td>0.1</td>\n",
       "      <td>7.1</td>\n",
       "      <td>0.1</td>\n",
       "      <td>0.1</td>\n",
       "      <td>...</td>\n",
       "      <td>8.1</td>\n",
       "      <td>0.1</td>\n",
       "      <td>0.1</td>\n",
       "      <td>6.1</td>\n",
       "      <td>1.1</td>\n",
       "      <td>0.1</td>\n",
       "      <td>3.1</td>\n",
       "      <td>0.1</td>\n",
       "      <td>2.1</td>\n",
       "      <td>North Dakota</td>\n",
       "    </tr>\n",
       "    <tr>\n",
       "      <th>36</th>\n",
       "      <td>90.1</td>\n",
       "      <td>90.1</td>\n",
       "      <td>54.1</td>\n",
       "      <td>85.1</td>\n",
       "      <td>73.1</td>\n",
       "      <td>25.1</td>\n",
       "      <td>41.1</td>\n",
       "      <td>63.1</td>\n",
       "      <td>75.1</td>\n",
       "      <td>0.1</td>\n",
       "      <td>...</td>\n",
       "      <td>0.1</td>\n",
       "      <td>37.1</td>\n",
       "      <td>59.1</td>\n",
       "      <td>16.1</td>\n",
       "      <td>13.1</td>\n",
       "      <td>93.1</td>\n",
       "      <td>9.1</td>\n",
       "      <td>0.1</td>\n",
       "      <td>101.1</td>\n",
       "      <td>Ohio</td>\n",
       "    </tr>\n",
       "    <tr>\n",
       "      <th>37</th>\n",
       "      <td>0.1</td>\n",
       "      <td>51.1</td>\n",
       "      <td>0.1</td>\n",
       "      <td>49.1</td>\n",
       "      <td>78.1</td>\n",
       "      <td>2.1</td>\n",
       "      <td>48.1</td>\n",
       "      <td>0.1</td>\n",
       "      <td>13.1</td>\n",
       "      <td>6.1</td>\n",
       "      <td>...</td>\n",
       "      <td>0.1</td>\n",
       "      <td>9.1</td>\n",
       "      <td>2.1</td>\n",
       "      <td>8.1</td>\n",
       "      <td>3.1</td>\n",
       "      <td>31.1</td>\n",
       "      <td>23.1</td>\n",
       "      <td>0.1</td>\n",
       "      <td>7.1</td>\n",
       "      <td>Oklahoma</td>\n",
       "    </tr>\n",
       "    <tr>\n",
       "      <th>38</th>\n",
       "      <td>38.1</td>\n",
       "      <td>9.1</td>\n",
       "      <td>36.1</td>\n",
       "      <td>12.1</td>\n",
       "      <td>33.1</td>\n",
       "      <td>1.1</td>\n",
       "      <td>25.1</td>\n",
       "      <td>22.1</td>\n",
       "      <td>39.1</td>\n",
       "      <td>8.1</td>\n",
       "      <td>...</td>\n",
       "      <td>0.1</td>\n",
       "      <td>8.1</td>\n",
       "      <td>11.1</td>\n",
       "      <td>13.1</td>\n",
       "      <td>0.1</td>\n",
       "      <td>26.1</td>\n",
       "      <td>56.1</td>\n",
       "      <td>0.1</td>\n",
       "      <td>32.1</td>\n",
       "      <td>Oregon</td>\n",
       "    </tr>\n",
       "    <tr>\n",
       "      <th>39</th>\n",
       "      <td>29.1</td>\n",
       "      <td>46.1</td>\n",
       "      <td>37.1</td>\n",
       "      <td>102.1</td>\n",
       "      <td>129.1</td>\n",
       "      <td>38.1</td>\n",
       "      <td>36.1</td>\n",
       "      <td>52.1</td>\n",
       "      <td>58.1</td>\n",
       "      <td>0.1</td>\n",
       "      <td>...</td>\n",
       "      <td>0.1</td>\n",
       "      <td>45.1</td>\n",
       "      <td>99.1</td>\n",
       "      <td>38.1</td>\n",
       "      <td>25.1</td>\n",
       "      <td>97.1</td>\n",
       "      <td>87.1</td>\n",
       "      <td>0.1</td>\n",
       "      <td>88.1</td>\n",
       "      <td>Pennsylvania</td>\n",
       "    </tr>\n",
       "    <tr>\n",
       "      <th>40</th>\n",
       "      <td>3.1</td>\n",
       "      <td>0.1</td>\n",
       "      <td>0.1</td>\n",
       "      <td>1.1</td>\n",
       "      <td>10.1</td>\n",
       "      <td>1.1</td>\n",
       "      <td>0.1</td>\n",
       "      <td>0.1</td>\n",
       "      <td>0.1</td>\n",
       "      <td>0.1</td>\n",
       "      <td>...</td>\n",
       "      <td>4.1</td>\n",
       "      <td>0.1</td>\n",
       "      <td>25.1</td>\n",
       "      <td>0.1</td>\n",
       "      <td>26.1</td>\n",
       "      <td>7.1</td>\n",
       "      <td>0.1</td>\n",
       "      <td>0.1</td>\n",
       "      <td>8.1</td>\n",
       "      <td>Rhode Island</td>\n",
       "    </tr>\n",
       "    <tr>\n",
       "      <th>41</th>\n",
       "      <td>0.1</td>\n",
       "      <td>16.1</td>\n",
       "      <td>0.1</td>\n",
       "      <td>0.1</td>\n",
       "      <td>15.1</td>\n",
       "      <td>20.1</td>\n",
       "      <td>18.1</td>\n",
       "      <td>18.1</td>\n",
       "      <td>0.1</td>\n",
       "      <td>1.1</td>\n",
       "      <td>...</td>\n",
       "      <td>0.1</td>\n",
       "      <td>10.1</td>\n",
       "      <td>5.1</td>\n",
       "      <td>15.1</td>\n",
       "      <td>13.1</td>\n",
       "      <td>15.1</td>\n",
       "      <td>0.1</td>\n",
       "      <td>0.1</td>\n",
       "      <td>13.1</td>\n",
       "      <td>South Carolina</td>\n",
       "    </tr>\n",
       "    <tr>\n",
       "      <th>42</th>\n",
       "      <td>0.1</td>\n",
       "      <td>1.1</td>\n",
       "      <td>0.1</td>\n",
       "      <td>0.1</td>\n",
       "      <td>0.1</td>\n",
       "      <td>0.1</td>\n",
       "      <td>0.1</td>\n",
       "      <td>0.1</td>\n",
       "      <td>0.1</td>\n",
       "      <td>0.1</td>\n",
       "      <td>...</td>\n",
       "      <td>0.1</td>\n",
       "      <td>2.1</td>\n",
       "      <td>0.1</td>\n",
       "      <td>0.1</td>\n",
       "      <td>3.1</td>\n",
       "      <td>1.1</td>\n",
       "      <td>0.1</td>\n",
       "      <td>0.1</td>\n",
       "      <td>2.1</td>\n",
       "      <td>South Dakota</td>\n",
       "    </tr>\n",
       "    <tr>\n",
       "      <th>43</th>\n",
       "      <td>22.1</td>\n",
       "      <td>39.1</td>\n",
       "      <td>0.1</td>\n",
       "      <td>78.1</td>\n",
       "      <td>71.1</td>\n",
       "      <td>7.1</td>\n",
       "      <td>0.1</td>\n",
       "      <td>57.1</td>\n",
       "      <td>66.1</td>\n",
       "      <td>12.1</td>\n",
       "      <td>...</td>\n",
       "      <td>0.1</td>\n",
       "      <td>89.1</td>\n",
       "      <td>14.1</td>\n",
       "      <td>100.1</td>\n",
       "      <td>11.1</td>\n",
       "      <td>16.1</td>\n",
       "      <td>0.1</td>\n",
       "      <td>0.1</td>\n",
       "      <td>0.1</td>\n",
       "      <td>Tennessee</td>\n",
       "    </tr>\n",
       "    <tr>\n",
       "      <th>44</th>\n",
       "      <td>73.1</td>\n",
       "      <td>154.1</td>\n",
       "      <td>35.1</td>\n",
       "      <td>173.1</td>\n",
       "      <td>198.1</td>\n",
       "      <td>92.1</td>\n",
       "      <td>121.1</td>\n",
       "      <td>46.1</td>\n",
       "      <td>250.1</td>\n",
       "      <td>46.1</td>\n",
       "      <td>...</td>\n",
       "      <td>0.1</td>\n",
       "      <td>195.1</td>\n",
       "      <td>165.1</td>\n",
       "      <td>50.1</td>\n",
       "      <td>6.1</td>\n",
       "      <td>218.1</td>\n",
       "      <td>1.1</td>\n",
       "      <td>0.1</td>\n",
       "      <td>188.1</td>\n",
       "      <td>Texas</td>\n",
       "    </tr>\n",
       "    <tr>\n",
       "      <th>45</th>\n",
       "      <td>0.1</td>\n",
       "      <td>1.1</td>\n",
       "      <td>0.1</td>\n",
       "      <td>22.1</td>\n",
       "      <td>0.1</td>\n",
       "      <td>0.1</td>\n",
       "      <td>8.1</td>\n",
       "      <td>29.1</td>\n",
       "      <td>13.1</td>\n",
       "      <td>0.1</td>\n",
       "      <td>...</td>\n",
       "      <td>1.1</td>\n",
       "      <td>5.1</td>\n",
       "      <td>7.1</td>\n",
       "      <td>10.1</td>\n",
       "      <td>10.1</td>\n",
       "      <td>8.1</td>\n",
       "      <td>3.1</td>\n",
       "      <td>0.1</td>\n",
       "      <td>1.1</td>\n",
       "      <td>Utah</td>\n",
       "    </tr>\n",
       "    <tr>\n",
       "      <th>46</th>\n",
       "      <td>0.1</td>\n",
       "      <td>2.1</td>\n",
       "      <td>0.1</td>\n",
       "      <td>0.1</td>\n",
       "      <td>5.1</td>\n",
       "      <td>0.1</td>\n",
       "      <td>0.1</td>\n",
       "      <td>1.1</td>\n",
       "      <td>0.1</td>\n",
       "      <td>6.1</td>\n",
       "      <td>...</td>\n",
       "      <td>1.1</td>\n",
       "      <td>3.1</td>\n",
       "      <td>2.1</td>\n",
       "      <td>0.1</td>\n",
       "      <td>1.1</td>\n",
       "      <td>0.1</td>\n",
       "      <td>0.1</td>\n",
       "      <td>0.1</td>\n",
       "      <td>1.1</td>\n",
       "      <td>Vermont</td>\n",
       "    </tr>\n",
       "    <tr>\n",
       "      <th>47</th>\n",
       "      <td>179.1</td>\n",
       "      <td>29.1</td>\n",
       "      <td>0.1</td>\n",
       "      <td>97.1</td>\n",
       "      <td>101.1</td>\n",
       "      <td>14.1</td>\n",
       "      <td>1.1</td>\n",
       "      <td>37.1</td>\n",
       "      <td>141.1</td>\n",
       "      <td>2.1</td>\n",
       "      <td>...</td>\n",
       "      <td>2.1</td>\n",
       "      <td>51.1</td>\n",
       "      <td>35.1</td>\n",
       "      <td>81.1</td>\n",
       "      <td>75.1</td>\n",
       "      <td>57.1</td>\n",
       "      <td>67.1</td>\n",
       "      <td>0.1</td>\n",
       "      <td>45.1</td>\n",
       "      <td>Virginia</td>\n",
       "    </tr>\n",
       "    <tr>\n",
       "      <th>48</th>\n",
       "      <td>59.1</td>\n",
       "      <td>56.1</td>\n",
       "      <td>123.1</td>\n",
       "      <td>27.1</td>\n",
       "      <td>79.1</td>\n",
       "      <td>44.1</td>\n",
       "      <td>19.1</td>\n",
       "      <td>16.1</td>\n",
       "      <td>39.1</td>\n",
       "      <td>0.1</td>\n",
       "      <td>...</td>\n",
       "      <td>2.1</td>\n",
       "      <td>29.1</td>\n",
       "      <td>79.1</td>\n",
       "      <td>77.1</td>\n",
       "      <td>26.1</td>\n",
       "      <td>64.1</td>\n",
       "      <td>34.1</td>\n",
       "      <td>0.1</td>\n",
       "      <td>37.1</td>\n",
       "      <td>Washington</td>\n",
       "    </tr>\n",
       "    <tr>\n",
       "      <th>49</th>\n",
       "      <td>12.1</td>\n",
       "      <td>18.1</td>\n",
       "      <td>1.1</td>\n",
       "      <td>0.1</td>\n",
       "      <td>6.1</td>\n",
       "      <td>5.1</td>\n",
       "      <td>0.1</td>\n",
       "      <td>3.1</td>\n",
       "      <td>0.1</td>\n",
       "      <td>1.1</td>\n",
       "      <td>...</td>\n",
       "      <td>0.1</td>\n",
       "      <td>12.1</td>\n",
       "      <td>16.1</td>\n",
       "      <td>0.1</td>\n",
       "      <td>14.1</td>\n",
       "      <td>2.1</td>\n",
       "      <td>0.1</td>\n",
       "      <td>0.1</td>\n",
       "      <td>2.1</td>\n",
       "      <td>West Virginia</td>\n",
       "    </tr>\n",
       "    <tr>\n",
       "      <th>50</th>\n",
       "      <td>19.1</td>\n",
       "      <td>25.1</td>\n",
       "      <td>0.1</td>\n",
       "      <td>8.1</td>\n",
       "      <td>7.1</td>\n",
       "      <td>0.1</td>\n",
       "      <td>27.1</td>\n",
       "      <td>1.1</td>\n",
       "      <td>19.1</td>\n",
       "      <td>0.1</td>\n",
       "      <td>...</td>\n",
       "      <td>1.1</td>\n",
       "      <td>15.1</td>\n",
       "      <td>33.1</td>\n",
       "      <td>33.1</td>\n",
       "      <td>12.1</td>\n",
       "      <td>34.1</td>\n",
       "      <td>3.1</td>\n",
       "      <td>0.1</td>\n",
       "      <td>8.1</td>\n",
       "      <td>Wisconsin</td>\n",
       "    </tr>\n",
       "    <tr>\n",
       "      <th>51</th>\n",
       "      <td>0.1</td>\n",
       "      <td>0.1</td>\n",
       "      <td>0.1</td>\n",
       "      <td>0.1</td>\n",
       "      <td>0.1</td>\n",
       "      <td>0.1</td>\n",
       "      <td>5.1</td>\n",
       "      <td>0.1</td>\n",
       "      <td>0.1</td>\n",
       "      <td>0.1</td>\n",
       "      <td>...</td>\n",
       "      <td>0.1</td>\n",
       "      <td>0.1</td>\n",
       "      <td>6.1</td>\n",
       "      <td>0.1</td>\n",
       "      <td>0.1</td>\n",
       "      <td>1.1</td>\n",
       "      <td>0.1</td>\n",
       "      <td>0.1</td>\n",
       "      <td>1.1</td>\n",
       "      <td>Wyoming</td>\n",
       "    </tr>\n",
       "  </tbody>\n",
       "</table>\n",
       "<p>52 rows × 51 columns</p>\n",
       "</div>"
      ],
      "text/plain": [
       "        0      1      2      3      4      5      6      7      8      9  \\\n",
       "0    28.1    6.1    2.1   30.1   48.1   60.1   22.1   13.1   18.1    2.1   \n",
       "1    12.1    4.1    0.1    0.1    0.1    0.1    7.1    2.1    0.1    0.1   \n",
       "2    18.1  125.1    2.1  107.1   88.1   10.1  131.1   19.1  104.1   35.1   \n",
       "3    18.1   19.1    0.1    0.1    4.1    0.1    3.1   21.1    0.1    1.1   \n",
       "4    80.1  142.1   55.1  122.1  115.1    0.1  110.1   67.1  147.1   24.1   \n",
       "5    35.1   41.1    0.1   28.1   56.1    0.1   29.1    0.1   19.1  183.1   \n",
       "6     0.1   11.1    0.1   19.1    6.1    0.1    4.1    0.1   40.1    0.1   \n",
       "7     1.1    0.1    0.1    1.1    4.1    3.1   10.1   10.1    5.1    3.1   \n",
       "8    10.1   74.1   51.1   44.1  134.1    1.1   44.1   43.1   49.1    3.1   \n",
       "9   115.1  124.1   60.1  126.1  103.1   57.1  117.1   93.1  119.1   21.1   \n",
       "10    4.1   36.1    0.1   36.1   67.1   11.1   55.1    0.1   19.1    2.1   \n",
       "11    3.1    0.1    0.1   10.1   16.1    0.1   11.1    3.1    2.1    2.1   \n",
       "12   15.1    0.1    2.1   19.1    3.1    0.1    0.1   12.1    3.1    0.1   \n",
       "13    4.1  113.1   53.1   51.1  172.1   35.1   97.1   37.1   69.1   15.1   \n",
       "14    0.1   47.1   34.1   23.1   58.1   29.1   17.1   15.1   26.1    0.1   \n",
       "15    0.1   11.1   21.1   18.1   24.1    1.1    9.1    1.1   16.1    0.1   \n",
       "16    3.1   33.1   23.1    0.1   31.1   20.1    9.1   22.1    1.1    0.1   \n",
       "17    1.1   43.1    0.1   17.1   27.1   16.1    5.1    3.1    7.1   16.1   \n",
       "18    0.1    0.1    8.1   16.1    6.1    0.1   18.1   17.1    0.1    0.1   \n",
       "19    0.1   10.1    8.1    0.1   14.1    5.1    1.1   12.1    0.1    0.1   \n",
       "20   10.1   12.1   19.1   47.1   66.1   37.1    1.1   28.1   19.1    2.1   \n",
       "21    0.1   56.1   60.1   83.1   89.1   83.1   57.1   49.1   57.1   18.1   \n",
       "22   38.1   72.1    1.1   39.1   29.1   12.1   38.1   29.1   33.1    0.1   \n",
       "23   11.1   23.1   10.1    3.1   59.1    0.1   25.1   19.1   10.1    8.1   \n",
       "24    6.1    6.1    0.1    0.1   10.1   10.1   15.1   25.1    0.1    1.1   \n",
       "25   11.1    2.1    5.1   20.1    7.1   13.1   18.1    0.1    0.1    0.1   \n",
       "26    0.1    0.1    0.1    2.1    1.1    0.1    1.1    1.1    2.1    0.1   \n",
       "27    0.1    0.1    5.1    0.1    2.1    7.1    3.1    0.1    0.1    0.1   \n",
       "28    3.1   20.1    0.1    6.1   35.1    1.1    0.1   30.1    0.1    0.1   \n",
       "29    3.1   13.1   42.1   12.1   28.1   35.1   59.1   23.1    5.1    0.1   \n",
       "30    1.1   23.1   10.1    0.1    1.1    0.1   16.1   11.1   13.1    0.1   \n",
       "31   44.1   19.1    0.1   45.1   50.1   59.1   69.1   31.1   24.1    1.1   \n",
       "32    0.1   15.1    0.1    0.1   14.1    4.1    5.1    0.1    0.1    0.1   \n",
       "33  132.1  225.1  112.1  260.1  400.1  131.1  221.1  161.1  111.1   58.1   \n",
       "34    0.1   83.1   32.1  100.1   47.1   80.1   13.1   45.1   43.1   10.1   \n",
       "35    1.1    0.1    1.1   11.1    0.1    2.1    0.1    7.1    0.1    0.1   \n",
       "36   90.1   90.1   54.1   85.1   73.1   25.1   41.1   63.1   75.1    0.1   \n",
       "37    0.1   51.1    0.1   49.1   78.1    2.1   48.1    0.1   13.1    6.1   \n",
       "38   38.1    9.1   36.1   12.1   33.1    1.1   25.1   22.1   39.1    8.1   \n",
       "39   29.1   46.1   37.1  102.1  129.1   38.1   36.1   52.1   58.1    0.1   \n",
       "40    3.1    0.1    0.1    1.1   10.1    1.1    0.1    0.1    0.1    0.1   \n",
       "41    0.1   16.1    0.1    0.1   15.1   20.1   18.1   18.1    0.1    1.1   \n",
       "42    0.1    1.1    0.1    0.1    0.1    0.1    0.1    0.1    0.1    0.1   \n",
       "43   22.1   39.1    0.1   78.1   71.1    7.1    0.1   57.1   66.1   12.1   \n",
       "44   73.1  154.1   35.1  173.1  198.1   92.1  121.1   46.1  250.1   46.1   \n",
       "45    0.1    1.1    0.1   22.1    0.1    0.1    8.1   29.1   13.1    0.1   \n",
       "46    0.1    2.1    0.1    0.1    5.1    0.1    0.1    1.1    0.1    6.1   \n",
       "47  179.1   29.1    0.1   97.1  101.1   14.1    1.1   37.1  141.1    2.1   \n",
       "48   59.1   56.1  123.1   27.1   79.1   44.1   19.1   16.1   39.1    0.1   \n",
       "49   12.1   18.1    1.1    0.1    6.1    5.1    0.1    3.1    0.1    1.1   \n",
       "50   19.1   25.1    0.1    8.1    7.1    0.1   27.1    1.1   19.1    0.1   \n",
       "51    0.1    0.1    0.1    0.1    0.1    0.1    5.1    0.1    0.1    0.1   \n",
       "\n",
       "            ...              41     42     43     44     45     46     47  \\\n",
       "0           ...            36.1    0.1    0.1    9.1   11.1    8.1   12.1   \n",
       "1           ...             0.1    6.1    0.1    0.1    0.1    8.1    0.1   \n",
       "2           ...             4.1    0.1   37.1   60.1   43.1    5.1   14.1   \n",
       "3           ...             0.1    2.1    0.1    5.1   18.1    0.1    0.1   \n",
       "4           ...            54.1  139.1   88.1   32.1   99.1  201.1   38.1   \n",
       "5           ...           102.1   16.1    6.1   21.1   18.1   47.1    8.1   \n",
       "6           ...             0.1   10.1   28.1    7.1    0.1   23.1    1.1   \n",
       "7           ...             0.1    3.1    3.1    0.1    0.1    8.1    2.1   \n",
       "8           ...             0.1   35.1   34.1   48.1   53.1   70.1   20.1   \n",
       "9           ...             2.1   76.1   69.1   51.1    0.1   86.1   38.1   \n",
       "10          ...             0.1   12.1   34.1    0.1   60.1   30.1    1.1   \n",
       "11          ...             4.1    2.1    1.1   26.1    0.1    0.1    1.1   \n",
       "12          ...            10.1    0.1    7.1    0.1    9.1    0.1   34.1   \n",
       "13          ...            38.1  154.1   86.1   31.1   69.1   44.1   57.1   \n",
       "14          ...             0.1   13.1   33.1   31.1    4.1   47.1    5.1   \n",
       "15          ...             3.1    0.1    0.1    0.1    7.1    9.1    0.1   \n",
       "16          ...             0.1   11.1   40.1   56.1   23.1    0.1    5.1   \n",
       "17          ...             1.1   11.1    0.1    4.1    0.1    9.1    0.1   \n",
       "18          ...             0.1    0.1    0.1    0.1    0.1    3.1    0.1   \n",
       "19          ...             0.1    0.1    0.1    1.1    3.1    1.1    0.1   \n",
       "20          ...             0.1   21.1   58.1   38.1   16.1   47.1    5.1   \n",
       "21          ...             0.1   13.1   98.1   15.1    1.1   61.1   79.1   \n",
       "22          ...             1.1   14.1    0.1   30.1    9.1    0.1    0.1   \n",
       "23          ...             0.1    0.1    0.1   43.1   21.1   30.1   53.1   \n",
       "24          ...             4.1    9.1    0.1    2.1    0.1    0.1    0.1   \n",
       "25          ...             0.1   19.1    0.1    3.1    1.1   20.1    0.1   \n",
       "26          ...             1.1    0.1    1.1    0.1    0.1    0.1    6.1   \n",
       "27          ...             0.1    0.1    0.1    0.1    0.1    0.1    0.1   \n",
       "28          ...             0.1   17.1   14.1    0.1    1.1    2.1    2.1   \n",
       "29          ...             5.1   31.1    4.1   13.1    1.1    1.1    0.1   \n",
       "30          ...             0.1   33.1    0.1    8.1    3.1    0.1    6.1   \n",
       "31          ...            10.1   26.1   52.1   14.1   43.1   39.1   36.1   \n",
       "32          ...             0.1    6.1    7.1    0.1    3.1   10.1    5.1   \n",
       "33          ...             8.1  267.1  236.1  243.1  283.1  262.1  103.1   \n",
       "34          ...             0.1   41.1   81.1   72.1   51.1   80.1   37.1   \n",
       "35          ...             8.1    0.1    0.1    6.1    1.1    0.1    3.1   \n",
       "36          ...             0.1   37.1   59.1   16.1   13.1   93.1    9.1   \n",
       "37          ...             0.1    9.1    2.1    8.1    3.1   31.1   23.1   \n",
       "38          ...             0.1    8.1   11.1   13.1    0.1   26.1   56.1   \n",
       "39          ...             0.1   45.1   99.1   38.1   25.1   97.1   87.1   \n",
       "40          ...             4.1    0.1   25.1    0.1   26.1    7.1    0.1   \n",
       "41          ...             0.1   10.1    5.1   15.1   13.1   15.1    0.1   \n",
       "42          ...             0.1    2.1    0.1    0.1    3.1    1.1    0.1   \n",
       "43          ...             0.1   89.1   14.1  100.1   11.1   16.1    0.1   \n",
       "44          ...             0.1  195.1  165.1   50.1    6.1  218.1    1.1   \n",
       "45          ...             1.1    5.1    7.1   10.1   10.1    8.1    3.1   \n",
       "46          ...             1.1    3.1    2.1    0.1    1.1    0.1    0.1   \n",
       "47          ...             2.1   51.1   35.1   81.1   75.1   57.1   67.1   \n",
       "48          ...             2.1   29.1   79.1   77.1   26.1   64.1   34.1   \n",
       "49          ...             0.1   12.1   16.1    0.1   14.1    2.1    0.1   \n",
       "50          ...             1.1   15.1   33.1   33.1   12.1   34.1    3.1   \n",
       "51          ...             0.1    0.1    6.1    0.1    0.1    1.1    0.1   \n",
       "\n",
       "       48     49                 state  \n",
       "0     0.1   40.1               Alabama  \n",
       "1     0.1    8.1                Alaska  \n",
       "2     1.1   76.1               Arizona  \n",
       "3     0.1   20.1              Arkansas  \n",
       "4     0.1  135.1            California  \n",
       "5     0.1   43.1              Colorado  \n",
       "6     0.1   26.1           Connecticut  \n",
       "7     0.1    0.1              Delaware  \n",
       "8     0.1  131.1  District of Columbia  \n",
       "9     5.1   89.1               Florida  \n",
       "10  487.1   35.1               Georgia  \n",
       "11    0.1    0.1                Hawaii  \n",
       "12    0.1    1.1                 Idaho  \n",
       "13    0.1  105.1              Illinois  \n",
       "14    0.1   32.1               Indiana  \n",
       "15    0.1    9.1                  Iowa  \n",
       "16    0.1    0.1                Kansas  \n",
       "17    0.1   14.1              Kentucky  \n",
       "18    0.1    6.1             Louisiana  \n",
       "19    0.1    5.1                 Maine  \n",
       "20    0.1   54.1              Maryland  \n",
       "21    1.1  106.1         Massachusetts  \n",
       "22    0.1   44.1              Michigan  \n",
       "23    0.1   48.1             Minnesota  \n",
       "24    0.1    0.1           Mississippi  \n",
       "25    3.1    0.1              Missouri  \n",
       "26    0.1    0.1               Montana  \n",
       "27    0.1    4.1              National  \n",
       "28    0.1   31.1              Nebraska  \n",
       "29    0.1   24.1                Nevada  \n",
       "30    0.1   18.1         New Hampshire  \n",
       "31    0.1   57.1            New Jersey  \n",
       "32    1.1    0.1            New Mexico  \n",
       "33    0.1  281.1              New York  \n",
       "34    0.1   80.1        North Carolina  \n",
       "35    0.1    2.1          North Dakota  \n",
       "36    0.1  101.1                  Ohio  \n",
       "37    0.1    7.1              Oklahoma  \n",
       "38    0.1   32.1                Oregon  \n",
       "39    0.1   88.1          Pennsylvania  \n",
       "40    0.1    8.1          Rhode Island  \n",
       "41    0.1   13.1        South Carolina  \n",
       "42    0.1    2.1          South Dakota  \n",
       "43    0.1    0.1             Tennessee  \n",
       "44    0.1  188.1                 Texas  \n",
       "45    0.1    1.1                  Utah  \n",
       "46    0.1    1.1               Vermont  \n",
       "47    0.1   45.1              Virginia  \n",
       "48    0.1   37.1            Washington  \n",
       "49    0.1    2.1         West Virginia  \n",
       "50    0.1    8.1             Wisconsin  \n",
       "51    0.1    1.1               Wyoming  \n",
       "\n",
       "[52 rows x 51 columns]"
      ]
     },
     "execution_count": 57,
     "metadata": {},
     "output_type": "execute_result"
    }
   ],
   "source": [
    "topic_dist"
   ]
  }
 ],
 "metadata": {
  "kernelspec": {
   "display_name": "Python 3",
   "language": "python",
   "name": "python3"
  },
  "language_info": {
   "codemirror_mode": {
    "name": "ipython",
    "version": 3
   },
   "file_extension": ".py",
   "mimetype": "text/x-python",
   "name": "python",
   "nbconvert_exporter": "python",
   "pygments_lexer": "ipython3",
   "version": "3.6.3"
  }
 },
 "nbformat": 4,
 "nbformat_minor": 2
}
