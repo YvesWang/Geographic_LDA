{
 "cells": [
  {
   "cell_type": "code",
   "execution_count": 1,
   "metadata": {
    "collapsed": true
   },
   "outputs": [],
   "source": [
    "import pandas as pd\n",
    "\n",
    "import json\n",
    "from pprint import pprint\n",
    "\n",
    "#Use gensim, which remove stop words, short words(<3 letters), puncts and do stemming\n",
    "from gensim.parsing.preprocessing import preprocess_documents\n",
    "from gensim.parsing.preprocessing import preprocess_string\n",
    "\n",
    "\n",
    "from collections import Counter\n",
    "import numpy as np\n",
    "\n",
    "\n",
    "from gensim.models import AuthorTopicModel\n",
    "from gensim.corpora import mmcorpus\n",
    "from gensim.test.utils import common_dictionary, datapath, temporary_file\n",
    "\n",
    "from gensim import corpora\n",
    "\n",
    "import pickle\n",
    "import logging\n",
    "\n",
    "import numpy as np\n",
    "import matplotlib\n",
    "import json \n",
    "import pickle as pkl\n",
    "from matplotlib import pyplot as plt\n",
    "%matplotlib inline"
   ]
  },
  {
   "cell_type": "code",
   "execution_count": 2,
   "metadata": {},
   "outputs": [
    {
     "name": "stderr",
     "output_type": "stream",
     "text": [
      "/home/yicheng/anaconda3/lib/python3.6/site-packages/sklearn/ensemble/weight_boosting.py:29: DeprecationWarning: numpy.core.umath_tests is an internal NumPy module and should not be imported. It will be removed in a future NumPy release.\n",
      "  from numpy.core.umath_tests import inner1d\n"
     ]
    }
   ],
   "source": [
    "from lib.ATM import ATM,get_top_words\n",
    "from sklearn.linear_model import LogisticRegression\n",
    "from sklearn.ensemble import RandomForestClassifier"
   ]
  },
  {
   "cell_type": "markdown",
   "metadata": {},
   "source": [
    "## Results"
   ]
  },
  {
   "cell_type": "code",
   "execution_count": 3,
   "metadata": {
    "collapsed": true
   },
   "outputs": [],
   "source": [
    "with open('ATM_results.pkl','rb') as file:\n",
    "    res=pkl.load(file)"
   ]
  },
  {
   "cell_type": "code",
   "execution_count": 4,
   "metadata": {
    "collapsed": true,
    "scrolled": false
   },
   "outputs": [],
   "source": [
    "result=pd.DataFrame(np.array(res[1:-1]))"
   ]
  },
  {
   "cell_type": "code",
   "execution_count": 5,
   "metadata": {
    "collapsed": true
   },
   "outputs": [],
   "source": [
    "col_names=['n_doc','n_topic','n_vocab','max_iter','rf all topics ','NN red all topics ','NN blue all topics ','rf union topics ',\n",
    "'NN red union topics ','NN blue union topics ','rf red topics ','NN red red topics ','NN blue red topics ',\n",
    "'rf blue topics ','NN red blue topics ','NN blue blue topics ']"
   ]
  },
  {
   "cell_type": "code",
   "execution_count": 26,
   "metadata": {
    "collapsed": true
   },
   "outputs": [],
   "source": [
    "result.columns=col_names"
   ]
  },
  {
   "cell_type": "code",
   "execution_count": 27,
   "metadata": {},
   "outputs": [
    {
     "data": {
      "text/html": [
       "<div>\n",
       "<style scoped>\n",
       "    .dataframe tbody tr th:only-of-type {\n",
       "        vertical-align: middle;\n",
       "    }\n",
       "\n",
       "    .dataframe tbody tr th {\n",
       "        vertical-align: top;\n",
       "    }\n",
       "\n",
       "    .dataframe thead th {\n",
       "        text-align: right;\n",
       "    }\n",
       "</style>\n",
       "<table border=\"1\" class=\"dataframe\">\n",
       "  <thead>\n",
       "    <tr style=\"text-align: right;\">\n",
       "      <th></th>\n",
       "      <th>n_topic</th>\n",
       "      <th>n_vocab</th>\n",
       "      <th>max_iter</th>\n",
       "      <th>rf all topics</th>\n",
       "      <th>NN red all topics</th>\n",
       "      <th>NN blue all topics</th>\n",
       "      <th>rf union topics</th>\n",
       "      <th>NN red union topics</th>\n",
       "      <th>NN blue union topics</th>\n",
       "      <th>rf red topics</th>\n",
       "      <th>NN red red topics</th>\n",
       "      <th>NN blue red topics</th>\n",
       "      <th>rf blue topics</th>\n",
       "      <th>NN red blue topics</th>\n",
       "      <th>NN blue blue topics</th>\n",
       "    </tr>\n",
       "    <tr>\n",
       "      <th>n_doc</th>\n",
       "      <th></th>\n",
       "      <th></th>\n",
       "      <th></th>\n",
       "      <th></th>\n",
       "      <th></th>\n",
       "      <th></th>\n",
       "      <th></th>\n",
       "      <th></th>\n",
       "      <th></th>\n",
       "      <th></th>\n",
       "      <th></th>\n",
       "      <th></th>\n",
       "      <th></th>\n",
       "      <th></th>\n",
       "      <th></th>\n",
       "    </tr>\n",
       "  </thead>\n",
       "  <tbody>\n",
       "    <tr>\n",
       "      <th>62800.0</th>\n",
       "      <td>300.0</td>\n",
       "      <td>13140.0</td>\n",
       "      <td>30.0</td>\n",
       "      <td>0.626446</td>\n",
       "      <td>0.626446</td>\n",
       "      <td>0.547107</td>\n",
       "      <td>0.685950</td>\n",
       "      <td>0.633058</td>\n",
       "      <td>0.530579</td>\n",
       "      <td>0.689256</td>\n",
       "      <td>0.626446</td>\n",
       "      <td>0.487603</td>\n",
       "      <td>0.570248</td>\n",
       "      <td>0.517355</td>\n",
       "      <td>0.583471</td>\n",
       "    </tr>\n",
       "    <tr>\n",
       "      <th>73730.0</th>\n",
       "      <td>300.0</td>\n",
       "      <td>14542.0</td>\n",
       "      <td>30.0</td>\n",
       "      <td>0.619835</td>\n",
       "      <td>0.606612</td>\n",
       "      <td>0.580165</td>\n",
       "      <td>0.685950</td>\n",
       "      <td>0.573554</td>\n",
       "      <td>0.560331</td>\n",
       "      <td>0.656198</td>\n",
       "      <td>0.649587</td>\n",
       "      <td>0.500826</td>\n",
       "      <td>0.580165</td>\n",
       "      <td>0.494215</td>\n",
       "      <td>0.593388</td>\n",
       "    </tr>\n",
       "    <tr>\n",
       "      <th>90029.0</th>\n",
       "      <td>300.0</td>\n",
       "      <td>16771.0</td>\n",
       "      <td>30.0</td>\n",
       "      <td>0.629752</td>\n",
       "      <td>0.586777</td>\n",
       "      <td>0.593388</td>\n",
       "      <td>0.682645</td>\n",
       "      <td>0.593388</td>\n",
       "      <td>0.566942</td>\n",
       "      <td>0.656198</td>\n",
       "      <td>0.672727</td>\n",
       "      <td>0.438017</td>\n",
       "      <td>0.685950</td>\n",
       "      <td>0.451240</td>\n",
       "      <td>0.659504</td>\n",
       "    </tr>\n",
       "    <tr>\n",
       "      <th>117729.0</th>\n",
       "      <td>300.0</td>\n",
       "      <td>20269.0</td>\n",
       "      <td>30.0</td>\n",
       "      <td>0.682645</td>\n",
       "      <td>0.709091</td>\n",
       "      <td>0.537190</td>\n",
       "      <td>0.719008</td>\n",
       "      <td>0.712397</td>\n",
       "      <td>0.497521</td>\n",
       "      <td>0.728926</td>\n",
       "      <td>0.738843</td>\n",
       "      <td>0.411570</td>\n",
       "      <td>0.676033</td>\n",
       "      <td>0.550413</td>\n",
       "      <td>0.586777</td>\n",
       "    </tr>\n",
       "    <tr>\n",
       "      <th>175313.0</th>\n",
       "      <td>300.0</td>\n",
       "      <td>27390.0</td>\n",
       "      <td>30.0</td>\n",
       "      <td>0.666116</td>\n",
       "      <td>0.702479</td>\n",
       "      <td>0.563636</td>\n",
       "      <td>0.702479</td>\n",
       "      <td>0.699174</td>\n",
       "      <td>0.504132</td>\n",
       "      <td>0.672727</td>\n",
       "      <td>0.719008</td>\n",
       "      <td>0.365289</td>\n",
       "      <td>0.705785</td>\n",
       "      <td>0.487603</td>\n",
       "      <td>0.639669</td>\n",
       "    </tr>\n",
       "  </tbody>\n",
       "</table>\n",
       "</div>"
      ],
      "text/plain": [
       "          n_topic  n_vocab  max_iter  rf all topics   NN red all topics   \\\n",
       "n_doc                                                                      \n",
       "62800.0     300.0  13140.0      30.0        0.626446            0.626446   \n",
       "73730.0     300.0  14542.0      30.0        0.619835            0.606612   \n",
       "90029.0     300.0  16771.0      30.0        0.629752            0.586777   \n",
       "117729.0    300.0  20269.0      30.0        0.682645            0.709091   \n",
       "175313.0    300.0  27390.0      30.0        0.666116            0.702479   \n",
       "\n",
       "          NN blue all topics   rf union topics   NN red union topics   \\\n",
       "n_doc                                                                   \n",
       "62800.0              0.547107          0.685950              0.633058   \n",
       "73730.0              0.580165          0.685950              0.573554   \n",
       "90029.0              0.593388          0.682645              0.593388   \n",
       "117729.0             0.537190          0.719008              0.712397   \n",
       "175313.0             0.563636          0.702479              0.699174   \n",
       "\n",
       "          NN blue union topics   rf red topics   NN red red topics   \\\n",
       "n_doc                                                                 \n",
       "62800.0                0.530579        0.689256            0.626446   \n",
       "73730.0                0.560331        0.656198            0.649587   \n",
       "90029.0                0.566942        0.656198            0.672727   \n",
       "117729.0               0.497521        0.728926            0.738843   \n",
       "175313.0               0.504132        0.672727            0.719008   \n",
       "\n",
       "          NN blue red topics   rf blue topics   NN red blue topics   \\\n",
       "n_doc                                                                 \n",
       "62800.0              0.487603         0.570248             0.517355   \n",
       "73730.0              0.500826         0.580165             0.494215   \n",
       "90029.0              0.438017         0.685950             0.451240   \n",
       "117729.0             0.411570         0.676033             0.550413   \n",
       "175313.0             0.365289         0.705785             0.487603   \n",
       "\n",
       "          NN blue blue topics   \n",
       "n_doc                           \n",
       "62800.0               0.583471  \n",
       "73730.0               0.593388  \n",
       "90029.0               0.659504  \n",
       "117729.0              0.586777  \n",
       "175313.0              0.639669  "
      ]
     },
     "execution_count": 27,
     "metadata": {},
     "output_type": "execute_result"
    }
   ],
   "source": [
    "result[result.max_iter==30].groupby(['n_doc']).mean()"
   ]
  },
  {
   "cell_type": "code",
   "execution_count": 29,
   "metadata": {
    "collapsed": true
   },
   "outputs": [],
   "source": [
    "# result"
   ]
  },
  {
   "cell_type": "markdown",
   "metadata": {},
   "source": [
    "## Results End"
   ]
  },
  {
   "cell_type": "code",
   "execution_count": 12,
   "metadata": {
    "collapsed": true
   },
   "outputs": [],
   "source": [
    "\n",
    "with open('states.pkl','rb') as file:\n",
    "    states=pkl.load(file)\n",
    "for pair in states.items():\n",
    "    states[pair[0]]=pair[1].lower()"
   ]
  },
  {
   "cell_type": "code",
   "execution_count": 7,
   "metadata": {
    "collapsed": true
   },
   "outputs": [],
   "source": [
    "with open('alldebates.pkl','rb') as file:\n",
    "    odf=pkl.load(file)"
   ]
  },
  {
   "cell_type": "code",
   "execution_count": 8,
   "metadata": {},
   "outputs": [
    {
     "data": {
      "text/html": [
       "<div>\n",
       "<style scoped>\n",
       "    .dataframe tbody tr th:only-of-type {\n",
       "        vertical-align: middle;\n",
       "    }\n",
       "\n",
       "    .dataframe tbody tr th {\n",
       "        vertical-align: top;\n",
       "    }\n",
       "\n",
       "    .dataframe thead th {\n",
       "        text-align: right;\n",
       "    }\n",
       "</style>\n",
       "<table border=\"1\" class=\"dataframe\">\n",
       "  <thead>\n",
       "    <tr style=\"text-align: right;\">\n",
       "      <th></th>\n",
       "      <th>ID</th>\n",
       "      <th>text</th>\n",
       "      <th>state</th>\n",
       "      <th>uid</th>\n",
       "      <th>tid</th>\n",
       "    </tr>\n",
       "  </thead>\n",
       "  <tbody>\n",
       "    <tr>\n",
       "      <th>0</th>\n",
       "      <td>528479</td>\n",
       "      <td>RT @RandPaul: Hillary just flubbed the one lin...</td>\n",
       "      <td>Florida</td>\n",
       "      <td>779373775263559700</td>\n",
       "      <td>780576244253528064</td>\n",
       "    </tr>\n",
       "    <tr>\n",
       "      <th>1</th>\n",
       "      <td>455993</td>\n",
       "      <td>RT @bannerite: #Historic moment coming up. #de...</td>\n",
       "      <td>New York</td>\n",
       "      <td>49681328</td>\n",
       "      <td>780567999015186432</td>\n",
       "    </tr>\n",
       "    <tr>\n",
       "      <th>2</th>\n",
       "      <td>61702</td>\n",
       "      <td>RT @blkkcatt: Hillary Has ALWAYS been Their Fo...</td>\n",
       "      <td>Texas</td>\n",
       "      <td>1941136946</td>\n",
       "      <td>780486075865112576</td>\n",
       "    </tr>\n",
       "    <tr>\n",
       "      <th>3</th>\n",
       "      <td>414351</td>\n",
       "      <td>RT @AARP: Where do the candidates stand on iss...</td>\n",
       "      <td>Alabama</td>\n",
       "      <td>521856183</td>\n",
       "      <td>780562424508272640</td>\n",
       "    </tr>\n",
       "    <tr>\n",
       "      <th>4</th>\n",
       "      <td>290345</td>\n",
       "      <td>RT @craftbeerdotcom: Presidential Debate Bingo...</td>\n",
       "      <td>Ohio</td>\n",
       "      <td>2284007076</td>\n",
       "      <td>780543457643401216</td>\n",
       "    </tr>\n",
       "  </tbody>\n",
       "</table>\n",
       "</div>"
      ],
      "text/plain": [
       "       ID                                               text     state  \\\n",
       "0  528479  RT @RandPaul: Hillary just flubbed the one lin...   Florida   \n",
       "1  455993  RT @bannerite: #Historic moment coming up. #de...  New York   \n",
       "2   61702  RT @blkkcatt: Hillary Has ALWAYS been Their Fo...     Texas   \n",
       "3  414351  RT @AARP: Where do the candidates stand on iss...   Alabama   \n",
       "4  290345  RT @craftbeerdotcom: Presidential Debate Bingo...      Ohio   \n",
       "\n",
       "                  uid                 tid  \n",
       "0  779373775263559700  780576244253528064  \n",
       "1            49681328  780567999015186432  \n",
       "2          1941136946  780486075865112576  \n",
       "3           521856183  780562424508272640  \n",
       "4          2284007076  780543457643401216  "
      ]
     },
     "execution_count": 8,
     "metadata": {},
     "output_type": "execute_result"
    }
   ],
   "source": [
    "odf.head()"
   ]
  },
  {
   "cell_type": "code",
   "execution_count": 9,
   "metadata": {
    "collapsed": true
   },
   "outputs": [],
   "source": [
    "odf=pd.read_pickle('alldebates.pkl')"
   ]
  },
  {
   "cell_type": "code",
   "execution_count": 10,
   "metadata": {
    "collapsed": true
   },
   "outputs": [],
   "source": [
    "odf.state=list(map(lambda x: x.lower(),odf.state))"
   ]
  },
  {
   "cell_type": "code",
   "execution_count": 11,
   "metadata": {},
   "outputs": [
    {
     "data": {
      "text/plain": [
       "547046"
      ]
     },
     "execution_count": 11,
     "metadata": {},
     "output_type": "execute_result"
    }
   ],
   "source": [
    "len(odf)"
   ]
  },
  {
   "cell_type": "code",
   "execution_count": 17,
   "metadata": {
    "collapsed": true
   },
   "outputs": [],
   "source": [
    "counts=odf.groupby('state').count().ID"
   ]
  },
  {
   "cell_type": "code",
   "execution_count": 36,
   "metadata": {},
   "outputs": [
    {
     "data": {
      "text/html": [
       "<iframe id=\"igraph\" scrolling=\"no\" style=\"border:none;\" seamless=\"seamless\" src=\"https://plot.ly/~yp653/2.embed\" height=\"525px\" width=\"100%\"></iframe>"
      ],
      "text/plain": [
       "<plotly.tools.PlotlyDisplay object>"
      ]
     },
     "execution_count": 36,
     "metadata": {},
     "output_type": "execute_result"
    }
   ],
   "source": [
    "abb=[flip_states[s] for s in counts.index] \n",
    "\n",
    "rank_df=pd.DataFrame({'states':abb,'rank':counts.values})\n",
    "\n",
    "import plotly.plotly as py\n",
    "import pandas as pd\n",
    "\n",
    "df = pd.read_csv('https://raw.githubusercontent.com/plotly/datasets/master/2011_us_ag_exports.csv')\n",
    "\n",
    "for col in df.columns:\n",
    "    df[col] = df[col].astype(str)\n",
    "\n",
    "scl = [[0.0, 'rgb(194, 210, 237)'],[0.5, 'rgb(66, 121, 214)'],[1.0, 'rgb(16, 161, 234)']]\n",
    "# scl='Viridis'\n",
    "\n",
    "data = [ dict(\n",
    "        type='choropleth',\n",
    "        colorscale = scl,\n",
    "        autocolorscale = False,\n",
    "        locations = rank_df['states'],\n",
    "        z = rank_df['rank'].astype(float),\n",
    "        locationmode = 'USA-states',\n",
    "        marker = dict(\n",
    "            line = dict (\n",
    "                color = 'rgb(255,255,255)',\n",
    "                width = 2\n",
    "            ) ),\n",
    "        colorbar = dict(\n",
    "            title = \"Data Volume\")\n",
    "        ) ]\n",
    "\n",
    "layout = dict(\n",
    "        title = 'Data Distribution over states',\n",
    "        geo = dict(\n",
    "            scope='usa',\n",
    "            projection=dict( type='albers usa' ),\n",
    "            showlakes = True,\n",
    "            lakecolor = 'rgb(255, 255, 255)'),\n",
    "             )\n",
    "    \n",
    "fig = dict( data=data, layout=layout )\n",
    "py.iplot( fig, filename='d3-cloropleth-map' )"
   ]
  },
  {
   "cell_type": "markdown",
   "metadata": {},
   "source": [
    "## Filter and extract"
   ]
  },
  {
   "cell_type": "code",
   "execution_count": 36,
   "metadata": {
    "collapsed": true
   },
   "outputs": [],
   "source": [
    "odf=odf.sample(len(odf)// 2,replace=False)"
   ]
  },
  {
   "cell_type": "code",
   "execution_count": 37,
   "metadata": {
    "collapsed": true
   },
   "outputs": [],
   "source": [
    "number_uid=(odf.groupby('uid').count()['ID'])\n",
    "good_uid=set(number_uid[number_uid<5].index.values)\n",
    "odf=odf[odf.uid.isin(good_uid)]"
   ]
  },
  {
   "cell_type": "code",
   "execution_count": 38,
   "metadata": {
    "collapsed": true
   },
   "outputs": [],
   "source": [
    "with open('truth.pkl','rb') as file:\n",
    "    truth=pkl.load(file)\n",
    "with open('web_pred.pkl','rb') as file:\n",
    "    web_pred=pkl.load(file)"
   ]
  },
  {
   "cell_type": "code",
   "execution_count": 39,
   "metadata": {
    "collapsed": true
   },
   "outputs": [],
   "source": [
    "#drop states with less than 300 tweets\n",
    "#number_tweets=odf.groupby('state').count()['ID']\n",
    "good_states=set(truth)\n",
    "\n",
    "odf=odf[odf.state.isin(good_states)]"
   ]
  },
  {
   "cell_type": "code",
   "execution_count": 40,
   "metadata": {
    "collapsed": true
   },
   "outputs": [],
   "source": [
    "assert len(np.unique(odf.state)) == len(good_states)"
   ]
  },
  {
   "cell_type": "code",
   "execution_count": 41,
   "metadata": {
    "collapsed": true
   },
   "outputs": [],
   "source": [
    "new_truth=truth\n",
    "new_wpred=web_pred"
   ]
  },
  {
   "cell_type": "code",
   "execution_count": 42,
   "metadata": {
    "collapsed": true
   },
   "outputs": [],
   "source": [
    "# Tokenize tweets\n",
    "\n",
    "documents=odf['text'].values\n",
    "\n",
    "from gensim.parsing.preprocessing import *\n",
    "CUSTOM_FILTERS = [lambda x: x.lower(),strip_multiple_whitespaces,remove_stopwords, strip_non_alphanum,strip_numeric,lambda x: strip_short(x,minsize=3)]\n",
    "\n",
    "filtered_docs=list(map(lambda t:preprocess_string(t, CUSTOM_FILTERS),documents))\n",
    "\n",
    "texts=filtered_docs\n",
    "\n",
    "from collections import defaultdict\n",
    "frequency = Counter()\n",
    "\n",
    "for text in texts:\n",
    "    for token in text:\n",
    "        frequency[token] += 1\n",
    "\n",
    "texts = [[token for token in text if (frequency[token] > 2) and (frequency[token]<200)] for text in texts]\n"
   ]
  },
  {
   "cell_type": "code",
   "execution_count": 43,
   "metadata": {
    "collapsed": true
   },
   "outputs": [],
   "source": [
    "#add filtered text to odf, but remove empty ones\n",
    "odf['filtered']=texts\n",
    "odf['filtered_len']=list(map(lambda x:len(x),texts))\n",
    "odf_c=odf[odf['filtered_len']>0]\n",
    "texts=odf_c['filtered'].values"
   ]
  },
  {
   "cell_type": "code",
   "execution_count": 44,
   "metadata": {
    "collapsed": true
   },
   "outputs": [],
   "source": [
    "\n",
    "n=0\n",
    "author2doc={}\n",
    "for author in states.values():\n",
    "    author2doc[author]=[]\n",
    "\n",
    "for author in odf_c['state'].values:\n",
    "    author2doc[author].append(int(n))\n",
    "    n+=1\n",
    "\n",
    "author_name={}\n",
    "author2id={}\n",
    "nstates=np.unique(odf_c['state'].values)\n",
    "for i in range(len(nstates)):\n",
    "    author_name[i]=nstates[i]\n",
    "    author2id[nstates[i]]=i"
   ]
  },
  {
   "cell_type": "code",
   "execution_count": 45,
   "metadata": {
    "collapsed": true
   },
   "outputs": [],
   "source": [
    "import os\n",
    "dictionary = corpora.Dictionary(texts)\n",
    "dictionary.save(os.path.join('temp.dict'))\n",
    "#indexize words and tweets\n",
    "corpus = [dictionary.doc2bow(text) for text in texts]\n",
    "\n",
    "#generate author2doc dic\n",
    "n=0\n",
    "author2doc={}\n",
    "for author in states.values():\n",
    "    author2doc[author]=[]\n",
    "\n",
    "for author in odf_c['state'].values:\n",
    "    author2doc[author].append(int(n))\n",
    "    n+=1"
   ]
  },
  {
   "cell_type": "code",
   "execution_count": 46,
   "metadata": {
    "collapsed": true
   },
   "outputs": [],
   "source": [
    "#indexize states\n",
    "author_name={}\n",
    "author2id={}\n",
    "nstates=np.unique(odf_c['state'].values)\n",
    "for i in range(len(nstates)):\n",
    "    author_name[i]=nstates[i]\n",
    "    author2id[nstates[i]]=i\n",
    "\n",
    "#input corpus for our ATM model\n",
    "new_corpus=[]\n",
    "for tweet in corpus:\n",
    "    new_data=[]\n",
    "    for pair in tweet:\n",
    "        new_data+=[pair[0]]*pair[1]\n",
    "    new_corpus.append(new_data)\n",
    "\n",
    "# A new word dic for our model input\n",
    "new_dic={}\n",
    "for key in dictionary.keys():\n",
    "    new_dic[key]=dictionary[key]\n",
    "\n",
    "voca=[new_dic[i] for i in range(len(new_dic.keys()))]"
   ]
  },
  {
   "cell_type": "code",
   "execution_count": 47,
   "metadata": {
    "collapsed": true
   },
   "outputs": [],
   "source": [
    "#generate docauthor list for our model input\n",
    "doc_author=np.arange(len(new_corpus))\n",
    "\n",
    "for pair in author2doc.items():\n",
    "#     print(pair)\n",
    "    for doc_id in pair[1]:\n",
    "        doc_author[doc_id]=author2id[pair[0]]\n",
    "\n",
    "doc_author=[[i] for i in doc_author]"
   ]
  },
  {
   "cell_type": "code",
   "execution_count": 48,
   "metadata": {
    "collapsed": true
   },
   "outputs": [],
   "source": [
    "#model hyperparameters\n",
    "n_doc = len(corpus)\n",
    "n_topic = 300\n",
    "n_author = len(author_name)\n",
    "n_voca = len(voca)\n",
    "max_iter = 30"
   ]
  },
  {
   "cell_type": "code",
   "execution_count": 49,
   "metadata": {},
   "outputs": [
    {
     "name": "stdout",
     "output_type": "stream",
     "text": [
      " 0 elapsed_time: 25.52995538711548 log_likelihood: -5766529.368900548\n",
      "Perplexity 13328.707203450529\n",
      " 1 elapsed_time: 24.457717180252075 log_likelihood: -5504834.8552667275\n",
      "Perplexity 13222.564552209484\n",
      " 2 elapsed_time: 25.107190370559692 log_likelihood: -5384367.292987883\n",
      "Perplexity 13114.654406496678\n",
      " 3 elapsed_time: 25.62778067588806 log_likelihood: -5310866.752928583\n",
      "Perplexity 13014.738242629774\n",
      " 4 elapsed_time: 25.10147714614868 log_likelihood: -5258546.732871249\n",
      "Perplexity 12917.130641356543\n",
      " 5 elapsed_time: 23.749311447143555 log_likelihood: -5216629.86909695\n",
      "Perplexity 12823.375159549156\n",
      " 6 elapsed_time: 24.58808970451355 log_likelihood: -5182885.969414127\n",
      "Perplexity 12748.471698549189\n",
      " 7 elapsed_time: 25.00333070755005 log_likelihood: -5153679.545138984\n",
      "Perplexity 12693.465107870596\n",
      " 8 elapsed_time: 24.686405658721924 log_likelihood: -5120693.936032872\n",
      "Perplexity 12625.641672582507\n",
      " 9 elapsed_time: 25.02702283859253 log_likelihood: -5093966.704020046\n",
      "Perplexity 12573.012775660356\n",
      " 10 elapsed_time: 24.375436782836914 log_likelihood: -5065720.637690009\n",
      "Perplexity 12507.729258861282\n",
      " 11 elapsed_time: 24.41679573059082 log_likelihood: -5039258.9528220855\n",
      "Perplexity 12457.9981116983\n",
      " 12 elapsed_time: 24.9832980632782 log_likelihood: -5011354.893218792\n",
      "Perplexity 12405.803585816398\n",
      " 13 elapsed_time: 24.643951177597046 log_likelihood: -4979618.963523667\n",
      "Perplexity 12349.107823931921\n",
      " 14 elapsed_time: 24.637471675872803 log_likelihood: -4953349.306318813\n",
      "Perplexity 12318.617772256144\n",
      " 15 elapsed_time: 24.373176336288452 log_likelihood: -4921818.496806226\n",
      "Perplexity 12289.555647781028\n",
      " 16 elapsed_time: 25.144792795181274 log_likelihood: -4894161.249346546\n",
      "Perplexity 12262.558678099136\n",
      " 17 elapsed_time: 24.58937406539917 log_likelihood: -4869679.7828147495\n",
      "Perplexity 12222.772554865987\n",
      " 18 elapsed_time: 24.62980604171753 log_likelihood: -4842388.079827178\n",
      "Perplexity 12212.256496708827\n",
      " 19 elapsed_time: 24.237646102905273 log_likelihood: -4816872.625663305\n",
      "Perplexity 12190.845545915452\n",
      " 20 elapsed_time: 24.54670548439026 log_likelihood: -4791498.061143584\n",
      "Perplexity 12172.853284140085\n",
      " 21 elapsed_time: 24.28934359550476 log_likelihood: -4770703.923245017\n",
      "Perplexity 12184.875617427946\n",
      " 22 elapsed_time: 25.548797369003296 log_likelihood: -4748316.021323543\n",
      "Perplexity 12150.178629866477\n",
      " 23 elapsed_time: 24.063704013824463 log_likelihood: -4729763.534511428\n",
      "Perplexity 12121.678863496669\n",
      " 24 elapsed_time: 24.092071294784546 log_likelihood: -4710491.999391919\n",
      "Perplexity 12115.150825651332\n",
      " 25 elapsed_time: 24.656864643096924 log_likelihood: -4693451.109727876\n",
      "Perplexity 12105.642166458549\n",
      " 26 elapsed_time: 24.081584215164185 log_likelihood: -4678355.07276037\n",
      "Perplexity 12092.495920095378\n",
      " 27 elapsed_time: 24.44345712661743 log_likelihood: -4660277.362257539\n",
      "Perplexity 12090.66595927084\n",
      " 28 elapsed_time: 24.582095623016357 log_likelihood: -4646279.3412735835\n",
      "Perplexity 12094.361200604404\n",
      " 29 elapsed_time: 24.802623987197876 log_likelihood: -4627646.791067225\n",
      "Perplexity 12089.207219071051\n"
     ]
    }
   ],
   "source": [
    "model = ATM(n_doc, n_voca, n_topic, n_author)\n",
    "model.fit(new_corpus, doc_author, max_iter=max_iter)"
   ]
  },
  {
   "cell_type": "code",
   "execution_count": 52,
   "metadata": {
    "collapsed": true
   },
   "outputs": [],
   "source": [
    "#run\n",
    "normalized_AT=[]\n",
    "for author_id in range(len(author_name.values())):\n",
    "    normalized_AT.append((model.AT[author_id,:]/np.sum(model.AT[author_id,:])))\n",
    "\n",
    "normalized_AT=np.array(normalized_AT)"
   ]
  },
  {
   "cell_type": "code",
   "execution_count": 53,
   "metadata": {
    "collapsed": true
   },
   "outputs": [],
   "source": [
    "#run\n",
    "topic_stds=[]\n",
    "for topic in range(n_topic):\n",
    "    topic_stds.append(np.std(normalized_AT[:,topic]))"
   ]
  },
  {
   "cell_type": "markdown",
   "metadata": {},
   "source": [
    "# Bootstrap"
   ]
  },
  {
   "cell_type": "code",
   "execution_count": 54,
   "metadata": {
    "collapsed": true
   },
   "outputs": [],
   "source": [
    "with open('three_parts.pkl','rb') as file:\n",
    "    three_parts=pkl.load(file)"
   ]
  },
  {
   "cell_type": "code",
   "execution_count": 55,
   "metadata": {
    "collapsed": true
   },
   "outputs": [],
   "source": [
    "red_states,swing_states,blue_states=three_parts"
   ]
  },
  {
   "cell_type": "code",
   "execution_count": 56,
   "metadata": {
    "collapsed": true
   },
   "outputs": [],
   "source": [
    "author2id_lower={}\n",
    "for pair in author2id.items():\n",
    "    author2id_lower[pair[0].lower()]=pair[1]"
   ]
  },
  {
   "cell_type": "code",
   "execution_count": 57,
   "metadata": {
    "collapsed": true
   },
   "outputs": [],
   "source": [
    "red_states_ids=[]\n",
    "for i in red_states:\n",
    "    if i in author2id_lower:\n",
    "        red_states_ids.append(author2id_lower[i])"
   ]
  },
  {
   "cell_type": "code",
   "execution_count": 58,
   "metadata": {
    "collapsed": true
   },
   "outputs": [],
   "source": [
    "blue_states_ids=[]\n",
    "for i in blue_states:\n",
    "    if i in author2id_lower:\n",
    "        blue_states_ids.append(author2id_lower[i])"
   ]
  },
  {
   "cell_type": "code",
   "execution_count": 59,
   "metadata": {
    "collapsed": true
   },
   "outputs": [],
   "source": [
    "topic_means=[]\n",
    "for topic in range(n_topic):\n",
    "    topic_means.append(np.mean(normalized_AT[:,topic]))"
   ]
  },
  {
   "cell_type": "code",
   "execution_count": 60,
   "metadata": {
    "collapsed": true
   },
   "outputs": [],
   "source": [
    "red_means=[]\n",
    "for t in range(n_topic):\n",
    "    red_means.append(np.mean(normalized_AT[red_states_ids,t]))\n"
   ]
  },
  {
   "cell_type": "code",
   "execution_count": 61,
   "metadata": {
    "collapsed": true
   },
   "outputs": [],
   "source": [
    "blue_means=[]\n",
    "for t in range(n_topic):\n",
    "    blue_means.append(np.mean(normalized_AT[blue_states_ids,t]))\n"
   ]
  },
  {
   "cell_type": "code",
   "execution_count": 137,
   "metadata": {},
   "outputs": [
    {
     "data": {
      "image/png": "[encoded data removed]",
      "text/plain": [
       "<matplotlib.figure.Figure at 0x7f4bed6788d0>"
      ]
     },
     "metadata": {},
     "output_type": "display_data"
    }
   ],
   "source": [
    "import seaborn as sns\n",
    "sns.set_style(\"whitegrid\")\n",
    "author_id = 8\n",
    "fig = plt.figure(figsize=(12,6))\n",
    "plt.bar(range(len(good_topics_union)),  normalized_AT[author_id,good_topics_union],label=author_name[author_id])\n",
    "author_id = 50\n",
    "plt.bar(range(len(good_topics_union)), normalized_AT[author_id,good_topics_union],color='r',alpha=0.65,label=author_name[author_id])\n",
    "plt.legend()\n",
    "plt.title(\"Selected topics comparison\")\n",
    "# plt.xticks(np.arange(n_topic)+0.5, ['\\n'.join(get_top_words(model.TW, voca, k, 10)) for k in range(n_topic)])\n",
    "# plt.xticks(np.arange(n_topic)+0.5, [k for k in range(n_topic)])\n",
    "plt.show()"
   ]
  },
  {
   "cell_type": "code",
   "execution_count": 140,
   "metadata": {},
   "outputs": [
    {
     "data": {
      "image/png": "[encoded data removed]",
      "text/plain": [
       "<matplotlib.figure.Figure at 0x7f4bedb9af28>"
      ]
     },
     "metadata": {},
     "output_type": "display_data"
    }
   ],
   "source": [
    "import seaborn as sns\n",
    "sns.set_style(\"whitegrid\")\n",
    "fig = plt.figure(figsize=(12,6))\n",
    "plt.bar(range(len(good_topics_union)), np.array(blue_means)[good_topics_union],label='Mean of Democrat states')\n",
    "plt.bar(range(len(good_topics_union)), np.array(red_means)[good_topics_union],color='r',alpha=0.65,label='Mean of Republican states')\n",
    "plt.legend()\n",
    "plt.title(\"Selected topics comparison\")\n",
    "# plt.xticks(np.arange(n_topic)+0.5, ['\\n'.join(get_top_words(model.TW, voca, k, 10)) for k in range(n_topic)])\n",
    "# plt.xticks(np.arange(n_topic)+0.5, [k for k in range(n_topic)])\n",
    "plt.show()"
   ]
  },
  {
   "cell_type": "code",
   "execution_count": 154,
   "metadata": {
    "collapsed": true
   },
   "outputs": [],
   "source": [
    "# good_topics_red"
   ]
  },
  {
   "cell_type": "code",
   "execution_count": 144,
   "metadata": {},
   "outputs": [
    {
     "data": {
      "text/plain": [
       "array(['todddracula', 'dog', 'dtmag', 'vodka', 'likely', 'stare',\n",
       "       'celebrating', 'jbzfnzsc', 'correctly', 'casting', 'nba', 'pulled',\n",
       "       'protesters', 'pet', 'bitches', 'entry', 'idk', 'iwcdfytqf',\n",
       "       'podernfamily', 'overweight', 'delusional', 'music', 'vsfaoiioei',\n",
       "       'browns', 'gate', 'crap', 'reduced', 'wealthy', 'controlled',\n",
       "       'saudi'], dtype='<U28')"
      ]
     },
     "execution_count": 144,
     "metadata": {},
     "output_type": "execute_result"
    }
   ],
   "source": [
    "#red\n",
    "k=290\n",
    "get_top_words(model.TW, voca, k, 30)"
   ]
  },
  {
   "cell_type": "code",
   "execution_count": 151,
   "metadata": {},
   "outputs": [
    {
     "data": {
      "text/plain": [
       "array(['rapes', 'phillyd', 'mike_pence', 'african', 'juanita', 'trash',\n",
       "       'pizza', 'cbsnews', 'crush', 'updates', 'knew', 'double', 'senate',\n",
       "       'sometimes', 'reporters', 'later', 'counting', 'vbklai',\n",
       "       'battleground', 'sound', 'bfraser', 'definition', 'barack',\n",
       "       'staff', 'football', 'stronger', 'dumb', 'outcome', 'score',\n",
       "       'leodunson'], dtype='<U28')"
      ]
     },
     "execution_count": 151,
     "metadata": {},
     "output_type": "execute_result"
    }
   ],
   "source": [
    "#red\n",
    "k=211\n",
    "get_top_words(model.TW, voca, k, 30)"
   ]
  },
  {
   "cell_type": "code",
   "execution_count": 153,
   "metadata": {},
   "outputs": [
    {
     "data": {
      "text/plain": [
       "array(['murder', 'jill', 'spend', 'percent', 'skip', 'gregorybrothers',\n",
       "       'skin', 'covered', 'elementary', 'league', 'depresseddarth',\n",
       "       'killing', 'carter', 'ignorant', 'passing', 'forecast',\n",
       "       'increasing', 'stone', 'impression', 'green', 'markets', 'grew',\n",
       "       'sanity', 'annoying', 'factor', 'premiums', 'mood', 'yuge',\n",
       "       'refusing', 'stevenwhirsch'], dtype='<U28')"
      ]
     },
     "execution_count": 153,
     "metadata": {},
     "output_type": "execute_result"
    }
   ],
   "source": [
    "#red\n",
    "k=176\n",
    "get_top_words(model.TW, voca, k, 30)"
   ]
  },
  {
   "cell_type": "code",
   "execution_count": 146,
   "metadata": {},
   "outputs": [
    {
     "data": {
      "text/plain": [
       "array(['endorses', 'celebrity', 'arena', 'globeopinion', 'type', 'screen',\n",
       "       'catch', 'leaving', 'including', 'glass', 'greatest', 'muaspoeob',\n",
       "       'hair', 'citizens', 'term', 'vpdebate', 'worked', 'fool',\n",
       "       'analysis', 'english', 'scrum', 'included', 'adult', 'star',\n",
       "       'nafta', 'interested', 'badhombres', 'aka', 'mistake',\n",
       "       'ariannahuff'], dtype='<U28')"
      ]
     },
     "execution_count": 146,
     "metadata": {},
     "output_type": "execute_result"
    }
   ],
   "source": [
    "#blue\n",
    "k=33\n",
    "get_top_words(model.TW, voca, k, 30)"
   ]
  },
  {
   "cell_type": "code",
   "execution_count": 148,
   "metadata": {},
   "outputs": [
    {
     "data": {
      "text/plain": [
       "array(['worried', 'fix', 'machine', 'ones', 'text', 'trashvis', 'total',\n",
       "       'kzftvi', 'update', 'months', 'dems', 'prisonplanet', 'ugly',\n",
       "       'debaten', 'bloomberg', 'ran', 'should', 'helps',\n",
       "       'askaboutabortion', 'rqtvoii', 'greatest', 'agitators', 'loan',\n",
       "       'assholes', 'cards', 'pers', 'near', 'jerusalem', 'opinions',\n",
       "       'twice'], dtype='<U28')"
      ]
     },
     "execution_count": 148,
     "metadata": {},
     "output_type": "execute_result"
    }
   ],
   "source": [
    "#blue\n",
    "k=142\n",
    "get_top_words(model.TW, voca, k, 30)"
   ]
  },
  {
   "cell_type": "code",
   "execution_count": 149,
   "metadata": {},
   "outputs": [
    {
     "data": {
      "text/plain": [
       "array(['measured', 'explain', 'saudi', 'yemen', 'row', 'celebrating',\n",
       "       'mittromney', 'drunks', 'fawfulfan', 'helpful', 'nrulycw',\n",
       "       'opposed', 'noted', 'philosoraptor', 'busters', 'kailijoy', 'huma',\n",
       "       'losses', 'bought', 'hungry', 'bottles', 'lesson', 'metro',\n",
       "       'investigation', 'angela_rye', 'controlled', 'whining', 'pussies',\n",
       "       'employers', 'roll'], dtype='<U28')"
      ]
     },
     "execution_count": 149,
     "metadata": {},
     "output_type": "execute_result"
    }
   ],
   "source": [
    "#blue\n",
    "k=112\n",
    "get_top_words(model.TW, voca, k, 30)"
   ]
  },
  {
   "cell_type": "code",
   "execution_count": null,
   "metadata": {
    "collapsed": true
   },
   "outputs": [],
   "source": []
  },
  {
   "cell_type": "code",
   "execution_count": 62,
   "metadata": {
    "collapsed": true
   },
   "outputs": [],
   "source": [
    "std_cut=0.05\n",
    "interest_cross_blue=[]\n",
    "for n in np.arange(len(blue_means)):\n",
    "    if (blue_means[n]>0.001) and (blue_means[n]>topic_means[n]+std_cut*topic_stds[n]) and (red_means[n]>0.001) and (red_means[n]<topic_means[n]-std_cut*topic_stds[n]):\n",
    "        interest_cross_blue.append(n)"
   ]
  },
  {
   "cell_type": "code",
   "execution_count": 63,
   "metadata": {
    "collapsed": true
   },
   "outputs": [],
   "source": [
    "interest_cross_red=[]\n",
    "for n in np.arange(len(red_means)):\n",
    "    if (blue_means[n]>0.001) and (blue_means[n]<topic_means[n]-std_cut*topic_stds[n]) and (red_means[n]>0.001) and (red_means[n]>topic_means[n]+std_cut*topic_stds[n]):\n",
    "        interest_cross_red.append(n)"
   ]
  },
  {
   "cell_type": "code",
   "execution_count": 64,
   "metadata": {
    "collapsed": true
   },
   "outputs": [],
   "source": [
    "good_topics_all=np.arange(normalized_AT.shape[1])\n",
    "\n",
    "good_topics_union=np.array(list(set(interest_cross_blue).union(set(interest_cross_red))))\n",
    "\n",
    "good_topics_blue=interest_cross_blue\n",
    "\n",
    "good_topics_red=interest_cross_red"
   ]
  },
  {
   "cell_type": "code",
   "execution_count": 65,
   "metadata": {
    "collapsed": true
   },
   "outputs": [],
   "source": [
    "#n_doc,n_topic,n_vocab,max_iter,'rf all topics ','NN red all topics ','NN blue all topics ','rf union topics ',\n",
    "#'NN red union topics ','NN blue union topics ','rf red topics ','NN red red topics ','NN blue red topics '\n",
    "#'rf blue topics ','NN red blue topics ','NN blue blue topics '"
   ]
  },
  {
   "cell_type": "code",
   "execution_count": 74,
   "metadata": {
    "collapsed": true
   },
   "outputs": [],
   "source": [
    "temp_param=[n_doc,n_topic,n_voca,max_iter]"
   ]
  },
  {
   "cell_type": "code",
   "execution_count": 73,
   "metadata": {
    "collapsed": true
   },
   "outputs": [],
   "source": [
    "topics=good_topics_all\n",
    "lda_pred=log_reg(topics)"
   ]
  },
  {
   "cell_type": "code",
   "execution_count": 72,
   "metadata": {},
   "outputs": [
    {
     "name": "stdout",
     "output_type": "stream",
     "text": [
      "rf all topics  0.7355371900826446\n",
      "NN red all topics  0.7024793388429752\n",
      "NN blue all topics  0.4214876033057851\n",
      "rf union topics  0.71900826446281\n",
      "NN red union topics  0.6694214876033058\n",
      "NN blue union topics  0.5371900826446281\n",
      "rf red topics  0.6528925619834711\n",
      "NN red red topics  0.6363636363636364\n",
      "NN blue red topics  0.45454545454545453\n",
      "rf blue topics  0.7355371900826446\n",
      "NN red blue topics  0.5867768595041323\n",
      "NN blue blue topics  0.5702479338842975\n"
     ]
    }
   ],
   "source": [
    "temp_res=[]\n",
    "\n",
    "topics=good_topics_all\n",
    "lda_pred=log_reg(topics)\n",
    "target_red=np.array(red_means)[topics]\n",
    "target_blue=np.array(blue_means)[topics]\n",
    "print('rf all topics ', simple_rank_loss(new_truth,lda_pred))\n",
    "temp_res.append(simple_rank_loss(new_truth,lda_pred))\n",
    "print('NN red all topics ', simple_rank_loss(new_truth,NN(topics,target_red)))\n",
    "temp_res.append( simple_rank_loss(new_truth,NN(topics,target_red)))\n",
    "print('NN blue all topics ', simple_rank_loss(new_truth,NN(topics,target_blue)[::-1]))\n",
    "temp_res.append(simple_rank_loss(new_truth,NN(topics,target_blue)[::-1]))\n",
    "\n",
    "topics=good_topics_union\n",
    "lda_pred=log_reg(topics)\n",
    "target_red=np.array(red_means)[topics]\n",
    "target_blue=np.array(blue_means)[topics]\n",
    "print('rf union topics ', simple_rank_loss(new_truth,lda_pred))\n",
    "temp_res.append(simple_rank_loss(new_truth,lda_pred))\n",
    "print('NN red union topics ', simple_rank_loss(new_truth,NN(topics,target_red)))\n",
    "temp_res.append( simple_rank_loss(new_truth,NN(topics,target_red)))\n",
    "print('NN blue union topics ', simple_rank_loss(new_truth,NN(topics,target_blue)[::-1]))\n",
    "temp_res.append(simple_rank_loss(new_truth,NN(topics,target_blue)[::-1]))\n",
    "\n",
    "topics=good_topics_red\n",
    "lda_pred=log_reg(topics)\n",
    "target_red=np.array(red_means)[topics]\n",
    "target_blue=np.array(blue_means)[topics]\n",
    "print('rf red topics ', simple_rank_loss(new_truth,lda_pred))\n",
    "temp_res.append(simple_rank_loss(new_truth,lda_pred))\n",
    "print('NN red red topics ', simple_rank_loss(new_truth,NN(topics,target_red)))\n",
    "temp_res.append( simple_rank_loss(new_truth,NN(topics,target_red)))\n",
    "print('NN blue red topics ', simple_rank_loss(new_truth,NN(topics,target_blue)[::-1]))\n",
    "temp_res.append(simple_rank_loss(new_truth,NN(topics,target_blue)[::-1]))\n",
    "\n",
    "topics=good_topics_blue\n",
    "lda_pred=log_reg(topics)\n",
    "target_red=np.array(red_means)[topics]\n",
    "target_blue=np.array(blue_means)[topics]\n",
    "print('rf blue topics ', simple_rank_loss(new_truth,lda_pred))\n",
    "temp_res.append(simple_rank_loss(new_truth,lda_pred))\n",
    "print('NN red blue topics ', simple_rank_loss(new_truth,NN(topics,target_red)))\n",
    "temp_res.append( simple_rank_loss(new_truth,NN(topics,target_red)))\n",
    "print('NN blue blue topics ', simple_rank_loss(new_truth,NN(topics,target_blue)[::-1]))\n",
    "temp_res.append(simple_rank_loss(new_truth,NN(topics,target_blue)[::-1]))"
   ]
  },
  {
   "cell_type": "code",
   "execution_count": 13,
   "metadata": {
    "collapsed": true
   },
   "outputs": [],
   "source": [
    "flip_states={}\n",
    "for pair in states.items():\n",
    "    flip_states[pair[1]]=pair[0]"
   ]
  },
  {
   "cell_type": "code",
   "execution_count": 76,
   "metadata": {
    "collapsed": true
   },
   "outputs": [],
   "source": [
    "swing_pred=[]\n",
    "for state in lda_pred:\n",
    "    if state in swing_states:\n",
    "        swing_pred.append(state)"
   ]
  },
  {
   "cell_type": "code",
   "execution_count": 99,
   "metadata": {},
   "outputs": [
    {
     "data": {
      "text/html": [
       "<iframe id=\"igraph\" scrolling=\"no\" style=\"border:none;\" seamless=\"seamless\" src=\"https://plot.ly/~yp653/2.embed\" height=\"525px\" width=\"100%\"></iframe>"
      ],
      "text/plain": [
       "<plotly.tools.PlotlyDisplay object>"
      ]
     },
     "execution_count": 99,
     "metadata": {},
     "output_type": "execute_result"
    }
   ],
   "source": [
    "abb_rank=[flip_states[s] for s in swing_pred] \n",
    "\n",
    "rank_df=pd.DataFrame({'states':abb_rank,'rank':np.arange(len(abb_rank))})\n",
    "\n",
    "import plotly.plotly as py\n",
    "import pandas as pd\n",
    "\n",
    "df = pd.read_csv('https://raw.githubusercontent.com/plotly/datasets/master/2011_us_ag_exports.csv')\n",
    "\n",
    "for col in df.columns:\n",
    "    df[col] = df[col].astype(str)\n",
    "\n",
    "scl = [[0.0, 'rgb(186,5,5)'],[0.4, 'rgb(175, 114, 114)'],\\\n",
    "            [0.6, 'rgb(119, 159, 175)'],[1.0, 'rgb(35, 130, 168)']]\n",
    "\n",
    "\n",
    "data = [ dict(\n",
    "        type='choropleth',\n",
    "        colorscale = scl,\n",
    "        autocolorscale = False,\n",
    "        locations = rank_df['states'],\n",
    "        z = rank_df['rank'].astype(float),\n",
    "        locationmode = 'USA-states',\n",
    "        marker = dict(\n",
    "            line = dict (\n",
    "                color = 'rgb(255,255,255)',\n",
    "                width = 2\n",
    "            ) ),\n",
    "        colorbar = dict(\n",
    "            title = \"Rank\")\n",
    "        ) ]\n",
    "\n",
    "layout = dict(\n",
    "        title = 'Topic Modeling Prediction of GOP favorability ranking',\n",
    "        geo = dict(\n",
    "            scope='usa',\n",
    "            projection=dict( type='albers usa' ),\n",
    "            showlakes = True,\n",
    "            lakecolor = 'rgb(255, 255, 255)'),\n",
    "             )\n",
    "    \n",
    "fig = dict( data=data, layout=layout )\n",
    "py.iplot( fig, filename='d3-cloropleth-map' )"
   ]
  },
  {
   "cell_type": "code",
   "execution_count": 93,
   "metadata": {
    "collapsed": true
   },
   "outputs": [],
   "source": [
    "swing_truth=[]\n",
    "for state in new_truth:\n",
    "    if state in swing_states:\n",
    "        swing_truth.append(state)"
   ]
  },
  {
   "cell_type": "code",
   "execution_count": 155,
   "metadata": {},
   "outputs": [
    {
     "data": {
      "text/html": [
       "<iframe id=\"igraph\" scrolling=\"no\" style=\"border:none;\" seamless=\"seamless\" src=\"https://plot.ly/~yp653/2.embed\" height=\"525px\" width=\"100%\"></iframe>"
      ],
      "text/plain": [
       "<plotly.tools.PlotlyDisplay object>"
      ]
     },
     "execution_count": 155,
     "metadata": {},
     "output_type": "execute_result"
    }
   ],
   "source": [
    "abb_rank=[flip_states[s] for s in swing_truth] \n",
    "rank_df=pd.DataFrame({'states':abb_rank,'rank':np.arange(len(abb_rank))})\n",
    "\n",
    "import plotly.plotly as py\n",
    "import pandas as pd\n",
    "\n",
    "df = pd.read_csv('https://raw.githubusercontent.com/plotly/datasets/master/2011_us_ag_exports.csv')\n",
    "\n",
    "for col in df.columns:\n",
    "    df[col] = df[col].astype(str)\n",
    "\n",
    "scl = [[0.0, 'rgb(186,5,5)'],[0.4, 'rgb(175, 114, 114)'],\\\n",
    "            [0.6, 'rgb(119, 159, 175)'],[1.0, 'rgb(35, 130, 168)']]\n",
    "\n",
    "\n",
    "data = [ dict(\n",
    "        type='choropleth',\n",
    "        colorscale = scl,\n",
    "        autocolorscale = False,\n",
    "        locations = rank_df['states'],\n",
    "        z = rank_df['rank'].astype(float),\n",
    "        locationmode = 'USA-states',\n",
    "        marker = dict(\n",
    "            line = dict (\n",
    "                color = 'rgb(255,255,255)',\n",
    "                width = 2\n",
    "            ) ),\n",
    "        colorbar = dict(\n",
    "            title = \"Rank\")\n",
    "        ) ]\n",
    "\n",
    "layout = dict(\n",
    "        title = 'Real GOP favorability ranking in 2016 election',\n",
    "        geo = dict(\n",
    "            scope='usa',\n",
    "            projection=dict( type='albers usa' ),\n",
    "            showlakes = True,\n",
    "            lakecolor = 'rgb(255, 255, 255)'),\n",
    "             )\n",
    "    \n",
    "fig = dict( data=data, layout=layout )\n",
    "py.iplot( fig, filename='d3-cloropleth-map' )"
   ]
  },
  {
   "cell_type": "code",
   "execution_count": 80,
   "metadata": {
    "collapsed": true
   },
   "outputs": [],
   "source": [
    "swing_wpred=[]\n",
    "for state in new_wpred:\n",
    "    if state in swing_states:\n",
    "        swing_wpred.append(state)"
   ]
  },
  {
   "cell_type": "code",
   "execution_count": 101,
   "metadata": {},
   "outputs": [
    {
     "data": {
      "text/html": [
       "<iframe id=\"igraph\" scrolling=\"no\" style=\"border:none;\" seamless=\"seamless\" src=\"https://plot.ly/~yp653/2.embed\" height=\"525px\" width=\"100%\"></iframe>"
      ],
      "text/plain": [
       "<plotly.tools.PlotlyDisplay object>"
      ]
     },
     "execution_count": 101,
     "metadata": {},
     "output_type": "execute_result"
    }
   ],
   "source": [
    "abb_rank=[flip_states[s] for s in swing_wpred] \n",
    "\n",
    "rank_df=pd.DataFrame({'states':abb_rank,'rank':np.arange(len(abb_rank))})\n",
    "\n",
    "import plotly.plotly as py\n",
    "import pandas as pd\n",
    "\n",
    "df = pd.read_csv('https://raw.githubusercontent.com/plotly/datasets/master/2011_us_ag_exports.csv')\n",
    "\n",
    "for col in df.columns:\n",
    "    df[col] = df[col].astype(str)\n",
    "\n",
    "scl = [[0.0, 'rgb(186,5,5)'],[0.4, 'rgb(175, 114, 114)'],\\\n",
    "            [0.6, 'rgb(119, 159, 175)'],[1.0, 'rgb(35, 130, 168)']]\n",
    "\n",
    "\n",
    "data = [ dict(\n",
    "        type='choropleth',\n",
    "        colorscale = scl,\n",
    "        autocolorscale = False,\n",
    "        locations = rank_df['states'],\n",
    "        z = rank_df['rank'].astype(float),\n",
    "        locationmode = 'USA-states',\n",
    "        marker = dict(\n",
    "            line = dict (\n",
    "                color = 'rgb(255,255,255)',\n",
    "                width = 2\n",
    "            ) ),\n",
    "        colorbar = dict(\n",
    "            title = \"Rank\")\n",
    "        ) ]\n",
    "\n",
    "layout = dict(\n",
    "        title = 'Human Expert Prediction of GOP favorability ranking',\n",
    "        geo = dict(\n",
    "            scope='usa',\n",
    "            projection=dict( type='albers usa' ),\n",
    "            showlakes = True,\n",
    "            lakecolor = 'rgb(255, 255, 255)'),\n",
    "             )\n",
    "    \n",
    "fig = dict( data=data, layout=layout )\n",
    "py.iplot( fig, filename='d3-cloropleth-map' )"
   ]
  },
  {
   "cell_type": "code",
   "execution_count": 107,
   "metadata": {},
   "outputs": [
    {
     "data": {
      "text/html": [
       "<iframe id=\"igraph\" scrolling=\"no\" style=\"border:none;\" seamless=\"seamless\" src=\"https://plot.ly/~yp653/2.embed\" height=\"525px\" width=\"100%\"></iframe>"
      ],
      "text/plain": [
       "<plotly.tools.PlotlyDisplay object>"
      ]
     },
     "execution_count": 107,
     "metadata": {},
     "output_type": "execute_result"
    }
   ],
   "source": [
    "FTpred=['north dakota',\n",
    " 'south dakota',\n",
    " 'minnesota',\n",
    " 'nebraska',\n",
    " 'mississippi',\n",
    " 'arkansas',\n",
    " 'wyoming',\n",
    " 'maryland',\n",
    " 'pennsylvania',\n",
    " 'delaware',\n",
    " 'indiana',\n",
    " 'texas',\n",
    " 'missouri',\n",
    " 'kansas',\n",
    " 'michigan',\n",
    " 'massachusetts',\n",
    " 'louisiana',\n",
    " 'hawaii',\n",
    " 'illinois',\n",
    " 'new york',\n",
    " 'arizona',\n",
    " 'montana',\n",
    " 'maine',\n",
    " 'wisconsin',\n",
    " 'vermont',\n",
    " 'new hampshire',\n",
    " 'south carolina',\n",
    " 'ohio',\n",
    " 'rhode island',\n",
    " 'florida',\n",
    " 'colorado',\n",
    " 'oklahoma',\n",
    " 'georgia',\n",
    " 'alaska',\n",
    " 'virginia',\n",
    " 'alabama',\n",
    " 'iowa',\n",
    " 'new jersey',\n",
    " 'west virginia',\n",
    " 'tennessee',\n",
    " 'california',\n",
    " 'connecticut',\n",
    " 'district of columbia',\n",
    " 'oregon',\n",
    " 'north carolina',\n",
    " 'kentucky',\n",
    " 'washington',\n",
    " 'idaho',\n",
    " 'new mexico',\n",
    " 'nevada',\n",
    " 'utah']\n",
    "swing_ftpred=[]\n",
    "for state in FTpred:\n",
    "    if state in swing_states:\n",
    "        swing_ftpred.append(state)\n",
    "        \n",
    "abb_rank=[flip_states[s] for s in swing_ftpred] \n",
    "\n",
    "rank_df=pd.DataFrame({'states':abb_rank,'rank':np.arange(len(abb_rank))})\n",
    "\n",
    "import plotly.plotly as py\n",
    "import pandas as pd\n",
    "\n",
    "df = pd.read_csv('https://raw.githubusercontent.com/plotly/datasets/master/2011_us_ag_exports.csv')\n",
    "\n",
    "for col in df.columns:\n",
    "    df[col] = df[col].astype(str)\n",
    "\n",
    "scl = [[0.0, 'rgb(186,5,5)'],[0.4, 'rgb(175, 114, 114)'],\\\n",
    "            [0.6, 'rgb(119, 159, 175)'],[1.0, 'rgb(35, 130, 168)']]\n",
    "\n",
    "\n",
    "data = [ dict(\n",
    "        type='choropleth',\n",
    "        colorscale = scl,\n",
    "        autocolorscale = False,\n",
    "        locations = rank_df['states'],\n",
    "        z = rank_df['rank'].astype(float),\n",
    "        locationmode = 'USA-states',\n",
    "        marker = dict(\n",
    "            line = dict (\n",
    "                color = 'rgb(255,255,255)',\n",
    "                width = 2\n",
    "            ) ),\n",
    "        colorbar = dict(\n",
    "            title = \"Rank\")\n",
    "        ) ]\n",
    "\n",
    "layout = dict(\n",
    "        title = 'FastText Prediction of GOP favorability ranking',\n",
    "        geo = dict(\n",
    "            scope='usa',\n",
    "            projection=dict( type='albers usa' ),\n",
    "            showlakes = True,\n",
    "            lakecolor = 'rgb(255, 255, 255)'),\n",
    "             )\n",
    "    \n",
    "fig = dict( data=data, layout=layout )\n",
    "py.iplot( fig, filename='d3-cloropleth-map' )"
   ]
  },
  {
   "cell_type": "code",
   "execution_count": 105,
   "metadata": {},
   "outputs": [
    {
     "data": {
      "text/plain": [
       "['pennsylvania',\n",
       " 'michigan',\n",
       " 'wisconsin',\n",
       " 'new hampshire',\n",
       " 'ohio',\n",
       " 'florida',\n",
       " 'colorado',\n",
       " 'virginia',\n",
       " 'iowa',\n",
       " 'north carolina',\n",
       " 'nevada']"
      ]
     },
     "execution_count": 105,
     "metadata": {},
     "output_type": "execute_result"
    }
   ],
   "source": [
    "swing_ftpred"
   ]
  },
  {
   "cell_type": "code",
   "execution_count": 106,
   "metadata": {},
   "outputs": [
    {
     "data": {
      "text/plain": [
       "['iowa',\n",
       " 'ohio',\n",
       " 'north carolina',\n",
       " 'florida',\n",
       " 'pennsylvania',\n",
       " 'wisconsin',\n",
       " 'michigan',\n",
       " 'new hampshire',\n",
       " 'nevada',\n",
       " 'colorado',\n",
       " 'virginia']"
      ]
     },
     "execution_count": 106,
     "metadata": {},
     "output_type": "execute_result"
    }
   ],
   "source": [
    "swing_truth"
   ]
  },
  {
   "cell_type": "code",
   "execution_count": 181,
   "metadata": {
    "collapsed": true
   },
   "outputs": [],
   "source": [
    "this_res=temp_param+temp_res\n",
    "with open('ATM_results.pkl','rb') as file:\n",
    "    last_res=pkl.load(file)"
   ]
  },
  {
   "cell_type": "code",
   "execution_count": 182,
   "metadata": {
    "collapsed": true
   },
   "outputs": [],
   "source": [
    "last_res.append(this_res)\n",
    "with open('ATM_results.pkl','wb') as file:\n",
    "    pkl.dump(last_res,file)"
   ]
  },
  {
   "cell_type": "code",
   "execution_count": 109,
   "metadata": {
    "collapsed": true
   },
   "outputs": [],
   "source": [
    "\n",
    "def simple_rank_loss(new_truth,lda_pred):\n",
    "    swing_truth=[]\n",
    "    for state in new_truth:\n",
    "        if state in swing_states:\n",
    "            swing_truth.append(state)\n",
    "    \n",
    "    swing_pred=[]\n",
    "    for state in lda_pred:\n",
    "        if state in swing_states:\n",
    "            swing_pred.append(state)\n",
    "    \n",
    "    new_truth=swing_truth\n",
    "    lda_pred=swing_pred\n",
    "    \n",
    "    truth_rank={}\n",
    "    n=0\n",
    "    for state in new_truth:\n",
    "        truth_rank[state]=n\n",
    "        n+=1\n",
    "\n",
    "\n",
    "    truth_binary_rank={}\n",
    "    for k in range(len(new_truth)):\n",
    "        for j in range(len(new_truth)):\n",
    "            if truth_rank[new_truth[k]]<truth_rank[new_truth[j]]:\n",
    "                truth_binary_rank[(new_truth[k],new_truth[j])]=1\n",
    "            else:\n",
    "                truth_binary_rank[(new_truth[k],new_truth[j])]=0\n",
    "\n",
    "\n",
    "    pred_rank={}\n",
    "    n=0\n",
    "    for state in lda_pred:\n",
    "        pred_rank[state]=n\n",
    "        n+=1\n",
    "\n",
    "\n",
    "    pred_binary_rank={}\n",
    "    for k in range(len(lda_pred)):\n",
    "        for j in range(len(lda_pred)):\n",
    "            if pred_rank[lda_pred[k]]<pred_rank[lda_pred[j]]:\n",
    "                pred_binary_rank[(lda_pred[k],lda_pred[j])]=1\n",
    "            else:\n",
    "                pred_binary_rank[(lda_pred[k],lda_pred[j])]=0\n",
    "\n",
    "    assert len(truth_binary_rank.values()) == len(pred_binary_rank.values())\n",
    "\n",
    "    correct=0\n",
    "    for key in pred_binary_rank.keys():\n",
    "        if pred_binary_rank[key] == truth_binary_rank[key]:\n",
    "            correct+=1\n",
    "\n",
    "    return correct/len(pred_binary_rank.keys())"
   ]
  },
  {
   "cell_type": "code",
   "execution_count": 110,
   "metadata": {},
   "outputs": [
    {
     "data": {
      "text/plain": [
       "0.7851239669421488"
      ]
     },
     "execution_count": 110,
     "metadata": {},
     "output_type": "execute_result"
    }
   ],
   "source": [
    "simple_rank_loss(new_truth,new_wpred)"
   ]
  },
  {
   "cell_type": "markdown",
   "metadata": {},
   "source": [
    "Bootstrap ends"
   ]
  },
  {
   "cell_type": "code",
   "execution_count": 68,
   "metadata": {
    "collapsed": true
   },
   "outputs": [],
   "source": [
    "def NN(good_topics,target):\n",
    "    scores = normalized_AT[:,good_topics] @ target\n",
    "\n",
    "    lda_pred=[]\n",
    "    ranked_pairs = sorted([(i,scores[i]) for i in range(len(scores))],key=lambda pair:pair[1],reverse=True)\n",
    "    for pair in ranked_pairs:\n",
    "#         print(author_name[pair[0]])\n",
    "        lda_pred.append(author_name[pair[0]].lower())\n",
    "    return lda_pred\n",
    "\n",
    "def log_reg(good_topics):\n",
    "    X_red=normalized_AT[red_states_ids,:][:,good_topics]\n",
    "    Y_red=np.zeros((X_red.shape[0]))+1\n",
    "\n",
    "    X_blue=normalized_AT[blue_states_ids,:][:,good_topics]\n",
    "    Y_blue=np.zeros((X_blue.shape[0]))\n",
    "\n",
    "    Y=np.concatenate((Y_red,Y_blue),axis=0)\n",
    "\n",
    "    X=np.concatenate((X_red,X_blue),axis=0)\n",
    "\n",
    "    cl = RandomForestClassifier(n_estimators=1000, max_depth=5,random_state=0)\n",
    "#     cl = LogisticRegression(C=1e5, solver='lbfgs')\n",
    "\n",
    "    cl.fit(X, Y)\n",
    "    score_rank=sorted(list(zip(author_name,cl.predict_proba(normalized_AT[:,good_topics])[:,1])),key=lambda x: x[1],reverse=True)\n",
    "    lda_pred=[]\n",
    "    for pair in score_rank:\n",
    "        lda_pred.append(author_name[pair[0]].lower())\n",
    "    return lda_pred"
   ]
  }
 ],
 "metadata": {
  "kernelspec": {
   "display_name": "Python 3",
   "language": "python",
   "name": "python3"
  },
  "language_info": {
   "codemirror_mode": {
    "name": "ipython",
    "version": 3
   },
   "file_extension": ".py",
   "mimetype": "text/x-python",
   "name": "python",
   "nbconvert_exporter": "python",
   "pygments_lexer": "ipython3",
   "version": "3.6.3"
  }
 },
 "nbformat": 4,
 "nbformat_minor": 2
}
